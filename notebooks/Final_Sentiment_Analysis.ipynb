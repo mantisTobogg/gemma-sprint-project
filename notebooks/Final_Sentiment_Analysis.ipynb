{
 "cells": [
  {
   "cell_type": "code",
   "execution_count": 1,
   "metadata": {},
   "outputs": [
    {
     "name": "stderr",
     "output_type": "stream",
     "text": [
      "/opt/anaconda3/envs/tensor_venv/lib/python3.10/site-packages/tqdm/auto.py:21: TqdmWarning: IProgress not found. Please update jupyter and ipywidgets. See https://ipywidgets.readthedocs.io/en/stable/user_install.html\n",
      "  from .autonotebook import tqdm as notebook_tqdm\n"
     ]
    },
    {
     "name": "stdout",
     "output_type": "stream",
     "text": [
      "Environment setup complete. Ready to load the dataset.\n"
     ]
    }
   ],
   "source": [
    "# Cell 1: Setup and Imports\n",
    "# ------------------------------------------------------------------------------\n",
    "import pandas as pd\n",
    "from transformers import pipeline\n",
    "import torch\n",
    "\n",
    "# Helper function to refine sentiment labels based on score thresholds\n",
    "def refine_labels(sentiment_score):\n",
    "    \"\"\"\n",
    "    Refines sentiment based on score thresholds.\n",
    "    Args:\n",
    "    - sentiment_score (float): The score output by the sentiment model.\n",
    "\n",
    "    Returns:\n",
    "    - str: Refined sentiment category as 'Positive', 'Negative', or 'Neutral'.\n",
    "    \"\"\"\n",
    "    if sentiment_score > 0.6:\n",
    "        return \"Positive\"\n",
    "    elif sentiment_score < 0.4:\n",
    "        return \"Negative\"\n",
    "    else:\n",
    "        return \"Neutral\"\n",
    "\n",
    "print(\"Environment setup complete. Ready to load the dataset.\")"
   ]
  },
  {
   "cell_type": "code",
   "execution_count": 2,
   "metadata": {},
   "outputs": [
    {
     "name": "stdout",
     "output_type": "stream",
     "text": [
      "Successfully loaded dataset: UScomments.csv\n",
      "Dataset loaded successfully with 691400 comments.\n"
     ]
    },
    {
     "name": "stderr",
     "output_type": "stream",
     "text": [
      "/var/folders/37/4v2592095c56rcdkbdhhjvgr0000gn/T/ipykernel_15204/3973909879.py:5: DtypeWarning: Columns (2,3) have mixed types. Specify dtype option on import or set low_memory=False.\n",
      "  data = pd.read_csv(data_file_path, on_bad_lines=\"skip\")\n"
     ]
    }
   ],
   "source": [
    "# Cell 2: Load Dataset and Handle Errors\n",
    "# ------------------------------------------------------------------------------\n",
    "data_file_path = \"UScomments.csv\"\n",
    "try:\n",
    "    data = pd.read_csv(data_file_path, on_bad_lines=\"skip\")\n",
    "    print(f\"Successfully loaded dataset: {data_file_path}\")\n",
    "except (pd.errors.ParserError, FileNotFoundError) as e:\n",
    "    print(f\"Error loading the dataset: {e}\")\n",
    "    exit()\n",
    "\n",
    "# Verify presence of necessary columns and extract comments\n",
    "if 'comment_text' not in data.columns:\n",
    "    print(\"Error: The column 'comment_text' does not exist in the dataset.\")\n",
    "    exit()\n",
    "\n",
    "all_comments = data['comment_text'].astype(str).tolist()\n",
    "if not all_comments:\n",
    "    print(\"Error: No comments found in the dataset.\")\n",
    "    exit()\n",
    "\n",
    "print(f\"Dataset loaded successfully with {len(all_comments)} comments.\")\n"
   ]
  },
  {
   "cell_type": "code",
   "execution_count": 3,
   "metadata": {},
   "outputs": [
    {
     "name": "stdout",
     "output_type": "stream",
     "text": [
      "Sentiment model 'distilbert-base-uncased-finetuned-sst-2-english' loaded successfully on CPU.\n"
     ]
    },
    {
     "name": "stderr",
     "output_type": "stream",
     "text": [
      "Token indices sequence length is longer than the specified maximum sequence length for this model (2491 > 512). Running this sequence through the model will result in indexing errors\n"
     ]
    },
    {
     "name": "stdout",
     "output_type": "stream",
     "text": [
      "Error processing batch 2: The size of tensor a (2491) must match the size of tensor b (512) at non-singleton dimension 1\n",
      "Sentiment Analysis Results:\n",
      "                                                                                Comment Sentiment Label  Sentiment Score\n",
      "                                                      Logan Paul it's yo big day ‼️‼️‼️        POSITIVE         0.996544\n",
      "I've been following you from the start of your vine channel and have seen all 365 vlogs        POSITIVE         0.995116\n",
      "                                                     Say hi to Kong and maverick for me        POSITIVE         0.999260\n",
      "                                                                    MY FAN . attendance        POSITIVE         0.999641\n",
      "                                                                             trending 😉        POSITIVE         0.886796\n",
      "                                                                #1 on trending AYYEEEEE        POSITIVE         0.985437\n",
      "                                                                   The end though 😭👍🏻❤️        NEGATIVE         0.967488\n",
      "                                                                   #1 trending!!!!!!!!!        POSITIVE         0.997375\n",
      "                                                            Happy one year vlogaversary        POSITIVE         0.999814\n",
      "        You and your shit brother may have single handedly ruined YouTube.....thanks...        NEGATIVE         0.999766\n"
     ]
    }
   ],
   "source": [
    "# Cell 3: Sentiment Analysis using Pre-trained Model\n",
    "# ------------------------------------------------------------------------------\n",
    "model_name = \"distilbert-base-uncased-finetuned-sst-2-english\"\n",
    "device = 0 if torch.cuda.is_available() else -1\n",
    "\n",
    "try:\n",
    "    sentiment_analyzer = pipeline(\"sentiment-analysis\", model=model_name, device=device)\n",
    "    print(f\"Sentiment model '{model_name}' loaded successfully on {'GPU' if device == 0 else 'CPU'}.\")\n",
    "except Exception as e:\n",
    "    print(f\"Error initializing sentiment analysis pipeline: {e}\")\n",
    "    exit()\n",
    "\n",
    "# Sentiment analysis on sampled comments\n",
    "sample_comments = all_comments[:1000]\n",
    "batch_size = 100\n",
    "results = []\n",
    "\n",
    "# Analyze in batches to avoid memory issues\n",
    "for i in range(0, len(sample_comments), batch_size):\n",
    "    batch_comments = sample_comments[i:i + batch_size]\n",
    "    try:\n",
    "        batch_results = sentiment_analyzer(batch_comments)\n",
    "        results.extend(batch_results)\n",
    "    except Exception as e:\n",
    "        print(f\"Error processing batch {i // batch_size + 1}: {e}\")\n",
    "\n",
    "# Create a DataFrame with sentiments\n",
    "df_sentiments = pd.DataFrame([\n",
    "    {\"Comment\": comment, \"Sentiment Label\": result['label'], \"Sentiment Score\": result['score']}\n",
    "    for comment, result in zip(sample_comments, results)\n",
    "])\n",
    "print(\"Sentiment Analysis Results:\")\n",
    "print(df_sentiments.head(10).to_string(index=False))"
   ]
  },
  {
   "cell_type": "code",
   "execution_count": 4,
   "metadata": {},
   "outputs": [
    {
     "name": "stdout",
     "output_type": "stream",
     "text": [
      "Sentiment Distribution for Sampled Comments:\n",
      "Sentiment Label\n",
      "NEGATIVE    533\n",
      "POSITIVE    367\n",
      "Name: count, dtype: int64\n",
      "Average Sentiment Scores for Each Label:\n",
      "Sentiment Label\n",
      "NEGATIVE    0.964600\n",
      "POSITIVE    0.959849\n",
      "Name: Sentiment Score, dtype: float64\n"
     ]
    }
   ],
   "source": [
    "# Cell 4: Sentiment Distribution Analysis\n",
    "# ------------------------------------------------------------------------------\n",
    "sentiment_counts = df_sentiments['Sentiment Label'].value_counts()\n",
    "print(\"Sentiment Distribution for Sampled Comments:\")\n",
    "print(sentiment_counts)\n",
    "\n",
    "avg_scores = df_sentiments.groupby('Sentiment Label')['Sentiment Score'].mean()\n",
    "print(\"Average Sentiment Scores for Each Label:\")\n",
    "print(avg_scores)"
   ]
  },
  {
   "cell_type": "code",
   "execution_count": 5,
   "metadata": {},
   "outputs": [
    {
     "name": "stdout",
     "output_type": "stream",
     "text": [
      "Top 5 Positive Comments:\n",
      "                                                                                                                      Comment  Sentiment Score\n",
      "                                                                                                       please say : ameterasu         0.999888\n",
      "as a left handed iPhone user, I´m wondering, if you can go to the Control Center by swiping from the left top corner, too? :/         0.999886\n",
      "                                                           What if it's to dark to recognise youre face how do you unlock it?         0.999884\n",
      "                                                                             Isn't it time for a Wonder Woman honest trailer?         0.999882\n",
      "                                                                                                              5TH ON TRENDING         0.999881\n",
      "Top 5 Negative Comments:\n",
      "                                                                                      Comment  Sentiment Score\n",
      "                                                                      Flash vs terminator dog         0.999814\n",
      "                                                                 Why didn't we see Country!!!         0.999814\n",
      "             i will not intentionally do anything to benefit...any...american! only russians!         0.999813\n",
      "honestly I don't care I won't let the word overpower me, I always will care about you pewdie!         0.999812\n",
      "                                             holyshit, Tom Cruise is older than Russel Crowe!         0.999801\n"
     ]
    }
   ],
   "source": [
    "# Cell 5: Extracting Extreme Sentiments\n",
    "# ------------------------------------------------------------------------------\n",
    "# Top 5 positive and negative comments\n",
    "top_positive_comments = df_sentiments[df_sentiments['Sentiment Label'] == 'POSITIVE'].nlargest(5, 'Sentiment Score')\n",
    "top_negative_comments = df_sentiments[df_sentiments['Sentiment Label'] == 'NEGATIVE'].nlargest(5, 'Sentiment Score')\n",
    "\n",
    "print(\"Top 5 Positive Comments:\")\n",
    "print(top_positive_comments[['Comment', 'Sentiment Score']].to_string(index=False))\n",
    "\n",
    "print(\"Top 5 Negative Comments:\")\n",
    "print(top_negative_comments[['Comment', 'Sentiment Score']].to_string(index=False))"
   ]
  },
  {
   "cell_type": "code",
   "execution_count": 6,
   "metadata": {},
   "outputs": [
    {
     "name": "stdout",
     "output_type": "stream",
     "text": [
      "Top 50 Most Common Words in the Dataset:\n",
      "nigger: 1244\n",
      "the: 538\n",
      "i: 315\n",
      "to: 288\n",
      "a: 276\n",
      "it: 270\n",
      "you: 264\n",
      "and: 246\n",
      "is: 222\n",
      "of: 173\n",
      "this: 168\n",
      "s: 160\n",
      "that: 139\n",
      "t: 131\n",
      "for: 127\n",
      "n: 97\n",
      "on: 94\n",
      "in: 92\n",
      "can: 91\n",
      "be: 89\n",
      "are: 89\n",
      "iphone: 89\n",
      "with: 87\n",
      "have: 85\n",
      "but: 84\n",
      "so: 84\n",
      "he: 84\n",
      "like: 79\n",
      "people: 78\n",
      "not: 74\n",
      "my: 73\n",
      "was: 72\n",
      "if: 66\n",
      "just: 65\n",
      "do: 64\n",
      "they: 64\n",
      "your: 63\n",
      "what: 60\n",
      "say: 59\n",
      "word: 57\n",
      "all: 53\n",
      "me: 53\n",
      "how: 52\n",
      "get: 49\n",
      "apple: 49\n",
      "from: 44\n",
      "about: 44\n",
      "m: 43\n",
      "more: 42\n",
      "see: 42\n"
     ]
    }
   ],
   "source": [
    "# Cell 6: Token Frequency Analysis\n",
    "# ------------------------------------------------------------------------------\n",
    "from collections import Counter\n",
    "import re\n",
    "\n",
    "# Tokenize and calculate word frequency\n",
    "all_words = []\n",
    "for comment in df_sentiments['Comment']:\n",
    "    words = re.findall(r'\\b\\w+\\b', comment.lower())\n",
    "    all_words.extend(words)\n",
    "\n",
    "# Calculate and display top 50 most common words\n",
    "word_freq = Counter(all_words)\n",
    "print(\"Top 50 Most Common Words in the Dataset:\")\n",
    "print(\"\\n\".join([f\"{word}: {freq}\" for word, freq in word_freq.most_common(50)]))"
   ]
  },
  {
   "cell_type": "code",
   "execution_count": 7,
   "metadata": {},
   "outputs": [
    {
     "name": "stdout",
     "output_type": "stream",
     "text": [
      "\n",
      "Number of Highly Offensive Comments Identified: 8\n",
      "Sample Highly Offensive Comments:\n",
      "                                                                                                                                                                                                                                                                                                                                                                                                                                                                                                                                                                                                                                                                                                                                                                             Comment Sentiment Label  Sentiment Score\n",
      "As a Black American, I don't think it's that big of a deal. I haven't even seen the clip but from what I've heard and from what I know about Pewds from watching him for years, I can conclude it wasn't meant to be offensive. Lots of the time the word is used now (or its variants), it's not meant to be racist or worth getting offended over. Although, I don't get why people have this weird obsession with saying it. While context does matter, regardless, it's a word with a shitty history and unnecessary to use. When people have a fixation with the word it weirds me out and makes me think they're closet racists. Do people think it's edgy or something? (I'm talking primarily about nigger, not nigga because that word has a totally different connotation)        NEGATIVE         0.988580\n",
      "                                                                                                                                                                                                                                                                                                                                                                                                                                                                                                                                                                                                                                                         Idubbbz says niggerfaggot in like every single video a year ago and it's hilarious. Everyone's such a boner. Love you Felix        POSITIVE         0.992565\n",
      "                                                                                                                                                                                                                                                                      You are basically the face of YouTube. For someone who has woken up from a coma since before YouTube was around you'd be the first thing they'd know about YouTube. I know you have all this pressure under your shoulders because if you say anything wrong, it would be like the YouTube logo walked on stage and said: Fuck off! \\n\\nIt's hard to control how you are and speak, I know it, and I feel bad for you. You didn't have to apologize, as you said nigger to a yellow fucking blob, but you did.        NEGATIVE         0.990179\n",
      "                                                                                                                                                                                                                                                                                                                                                                                                                                                                                                                                                                                                                                                                                                                                                                       Fuck niggers.        NEGATIVE         0.999327\n",
      "                                                                                                                                                                                                                                                                                                                                                                                                                                                                                                                                                                                                                                                                                                                                                                             Niggers        NEGATIVE         0.916982\n"
     ]
    }
   ],
   "source": [
    "# Cell 7: Identify and Flag Highly Offensive Comments\n",
    "# ------------------------------------------------------------------------------\n",
    "# Create a custom list of highly offensive words to monitor\n",
    "highly_offensive_words = [\"nigger\", \"faggot\", \"bitch\", \"cunt\"]\n",
    "\n",
    "def contains_offensive_word(comment, offensive_list):\n",
    "    \"\"\"\n",
    "    Checks if a comment contains any offensive words from a given list.\n",
    "\n",
    "    Args:\n",
    "    - comment (str): The comment text.\n",
    "    - offensive_list (list): List of words to check against.\n",
    "\n",
    "    Returns:\n",
    "    - bool: True if any word in the list is found in the comment, False otherwise.\n",
    "    \"\"\"\n",
    "    return any(word in comment.lower() for word in offensive_list)\n",
    "\n",
    "# Flag highly offensive comments\n",
    "df_sentiments['Offensive_Flag'] = df_sentiments['Comment'].apply(lambda x: contains_offensive_word(x, highly_offensive_words))\n",
    "\n",
    "# Display flagged comments and count\n",
    "flagged_count = df_sentiments['Offensive_Flag'].sum()\n",
    "print(f\"\\nNumber of Highly Offensive Comments Identified: {flagged_count}\")\n",
    "\n",
    "# Show a few flagged comments if any are found\n",
    "flagged_comments = df_sentiments[df_sentiments['Offensive_Flag']]\n",
    "if not flagged_comments.empty:\n",
    "    print(\"Sample Highly Offensive Comments:\")\n",
    "    print(flagged_comments[['Comment', 'Sentiment Label', 'Sentiment Score']].head(5).to_string(index=False))\n"
   ]
  },
  {
   "cell_type": "code",
   "execution_count": 8,
   "metadata": {},
   "outputs": [
    {
     "name": "stdout",
     "output_type": "stream",
     "text": [
      "Updated Sentiment Distribution (Including Highly Offensive Comments):\n",
      "Sentiment Label\n",
      "NEGATIVE            526\n",
      "POSITIVE            366\n",
      "Highly Offensive      8\n",
      "Name: count, dtype: int64\n"
     ]
    }
   ],
   "source": [
    "# Cell 8: Update Sentiment Labels and Adjust Scores for Offensive Comments\n",
    "# ------------------------------------------------------------------------------\n",
    "# Update sentiment labels and scores for highly offensive comments\n",
    "df_sentiments.loc[df_sentiments['Offensive_Flag'], 'Sentiment Label'] = 'Highly Offensive'\n",
    "df_sentiments.loc[df_sentiments['Offensive_Flag'], 'Sentiment Score'] = 1.0  # Set the maximum intensity\n",
    "\n",
    "# Display updated sentiment distribution\n",
    "updated_distribution = df_sentiments['Sentiment Label'].value_counts()\n",
    "print(\"Updated Sentiment Distribution (Including Highly Offensive Comments):\")\n",
    "print(updated_distribution)\n"
   ]
  },
  {
   "cell_type": "code",
   "execution_count": 9,
   "metadata": {},
   "outputs": [
    {
     "name": "stdout",
     "output_type": "stream",
     "text": [
      "\n",
      "=== Overall Sentiment Distribution ===\n",
      "Sentiment Label\n",
      "NEGATIVE            526\n",
      "POSITIVE            366\n",
      "Highly Offensive      8\n",
      "Name: count, dtype: int64\n",
      "\n",
      "Number of Highly Offensive Comments Identified: 8\n",
      "\n",
      "=== Key Insights ===\n",
      "- The dataset contains a total of 900 comments.\n",
      "- Out of these, 8 comments were flagged as containing highly offensive language.\n",
      "- These flagged comments make up approximately 0.89% of the sample.\n"
     ]
    }
   ],
   "source": [
    "# Cell 9: Text-Based Summary Report\n",
    "# ------------------------------------------------------------------------------\n",
    "def generate_summary(df):\n",
    "    \"\"\"\n",
    "    Generates a summary report of the sentiment analysis.\n",
    "\n",
    "    Args:\n",
    "    - df (DataFrame): The sentiment analysis DataFrame.\n",
    "\n",
    "    Prints:\n",
    "    - Various insights and statistics based on sentiment labels and categories.\n",
    "    \"\"\"\n",
    "    print(\"\\n=== Overall Sentiment Distribution ===\")\n",
    "    sentiment_distribution = df['Sentiment Label'].value_counts()\n",
    "    print(sentiment_distribution)\n",
    "\n",
    "    flagged_count = df['Offensive_Flag'].sum()\n",
    "    print(f\"\\nNumber of Highly Offensive Comments Identified: {flagged_count}\")\n",
    "\n",
    "    # Display key insights\n",
    "    print(\"\\n=== Key Insights ===\")\n",
    "    print(f\"- The dataset contains a total of {len(df)} comments.\")\n",
    "    print(f\"- Out of these, {flagged_count} comments were flagged as containing highly offensive language.\")\n",
    "    print(f\"- These flagged comments make up approximately {100 * flagged_count / len(df):.2f}% of the sample.\")\n",
    "\n",
    "# Call the function to display the summary\n",
    "generate_summary(df_sentiments)"
   ]
  },
  {
   "cell_type": "code",
   "execution_count": 10,
   "metadata": {},
   "outputs": [
    {
     "name": "stdout",
     "output_type": "stream",
     "text": [
      "\n",
      "Number of Comments Identified as Offensive (Broader Detection): 4\n",
      "\n",
      "Sample Broader Offensive Comments:\n",
      "                                                                                                                                                                                                                                                                                                                                                                                                                                                                                                                                                                                                                                                                                                                                                                                                                                                                                                                                                                                                                                                                                                                                                                                                                                                                                                                                                                                                                                                                                                                                                                                                                                                                                                                                                                                                                                                                                                                                                                                                                                                                                                                                                                                                                                                                                                                                                                                                                                                                                                                                                                                                                                                                                                                                                                                                                                                                                                                                                                                                                                                                                                                                                                                                                                                                                                                                                                                                                                                                                                                                                                                                                                                                                                                                                                                                                                                                                                                                                                                                                                                                                                                                                                                                                                                                                                                                                                                                                                                                                                                                                                                                                                                                                                                                                                                                                                                                                                                                                                                                                                                                                                                                                                                                                                                                                                                                                                                                                                                                                                                                                                                                                                                                                                                                                                                                                                                                                                                                                                                                                                                                                                                                                                                                                                                                                                                                                                                                                                                                                                                                                                                                                                                                                                                                                                                                                                                                                                                                                                                                                                                                                                                                                                                                                                                                                                                                                                                                                                                                                                                                                                                                                                                                                                                                                                                                                                                                                                                                                                                                                                                                                                                                                                                                                                                                                                                                                                                                                                                                                                                                                                                                                                                                                                                                                                                                                                                                                                                                                                                                                                                     Comment  Sentiment Label  Sentiment Score  Offensive_Flag  Expanded_Offensive_Flag\n",
      "                                                                                                                                                                                                                                                                                                                                                                                                                                                                                                                                                                                                                                                                                                                                                                                                                                                                                                                                                                                                                                                                                                                                                                                                                                                                                                                                                                                                                                                                                                                                                                                                                                                                                                                                                                                                                                                                                                                                                                                                                                                                                                                                                                                                                                                                                                                                                                                                                                                                                                                                                                                                                                                                                                                                                                                                                                                                                                                                                                                                                                                                                                                                                                                                                                                                                                                                                                                                                                                                                                                                                                                                                                                                                                                                                                                                                                                                                                                                                                                                                                                                                                                                                                                                                                                                                                                                                                                                                                                                                                                                                                                                                                                                                                                                                                                                                                                                                                                                                                                                                                                                                                                                                                                                                                                                                                                                                                                                                                                                                                                                                                                                                                                                                                                                                                                                                                                                                                                                                                                                                                                                                                                                                                                                                                                                                                                                                                                                                                                                                                                                                                                                                                                                                                                                                                                                                                                                                                                                                                                                                                                                                                                                                                                                                                                                                                                                                                                                                                                                                                                                                                                                                                                                                                                                                                                                                                                                                                                                                                                                                                                                                                                                                                                                                                                                        As a Black American, I don't think it's that big of a deal. I haven't even seen the clip but from what I've heard and from what I know about Pewds from watching him for years, I can conclude it wasn't meant to be offensive. Lots of the time the word is used now (or its variants), it's not meant to be racist or worth getting offended over. Although, I don't get why people have this weird obsession with saying it. While context does matter, regardless, it's a word with a shitty history and unnecessary to use. When people have a fixation with the word it weirds me out and makes me think they're closet racists. Do people think it's edgy or something? (I'm talking primarily about nigger, not nigga because that word has a totally different connotation) Highly Offensive              1.0            True                     True\n",
      "                                                                                                                                                                                                                                                                                                                                                                                                                                                                                                                                                                                                                                                                                                                                                                                                                                                                                                                                                                                                                                                                                                                                                                                                                                                                                                                                                                                                                                                                                                                                                                                                                                                                                                                                                                                                                                                                                                                                                                                                                                                                                                                                                                                                                                                                                                                                                                                                                                                                                                                                                                                                                                                                                                                                                                                                                                                                                                                                                                                                                                                                                                                                                                                                                                                                                                                                                                                                                                                                                                                                                                                                                                                                                                                                                                                                                                                                                                                                                                                                                                                                                                                                                                                                                                                                                                                                                                                                                                                                                                                                                                                                                                                                                                                                                                                                                                                                                                                                                                                                                                                                                                                                                                                                                                                                                                                                                                                                                                                                                                                                                                                                                                                                                                                                                                                                                                                                                                                                                                                                                                                                                                                                                                                                                                                                                                                                                                                                                                                                                                                                                                                                                                                                                                                                                                                                                                                                                                                                                                                                                                                                                                                                                                                                                                                                                                                                                                                                                                                                                                                                                                                                                                                                                                                                                                                                                                                                                                                                                                                                                                                                                                                                                                                                                                                                                                                                                                                                                                                                                                                                              You are basically the face of YouTube. For someone who has woken up from a coma since before YouTube was around you'd be the first thing they'd know about YouTube. I know you have all this pressure under your shoulders because if you say anything wrong, it would be like the YouTube logo walked on stage and said: Fuck off! \\n\\nIt's hard to control how you are and speak, I know it, and I feel bad for you. You didn't have to apologize, as you said nigger to a yellow fucking blob, but you did. Highly Offensive              1.0            True                     True\n",
      "                                                                                                                                                                                                                                                                                                                                                                                                                                                                                                                                                                                                                                                                                                                                                                                                                                                                                                                                                                                                                                                                                                                                                                                                                                                                                                                                                                                                                                                                                                                                                                                                                                                                                                                                                                                                                                                                                                                                                                                                                                                                                                                                                                                                                                                                                                                                                                                                                                                                                                                                                                                                                                                                                                                                                                                                                                                                                                                                                                                                                                                                                                                                                                                                                                                                                                                                                                                                                                                                                                                                                                                                                                                                                                                                                                                                                                                                                                                                                                                                                                                                                                                                                                                                                                                                                                                                                                                                                                                                                                                                                                                                                                                                                                                                                                                                                                                                                                                                                                                                                                                                                                                                                                                                                                                                                                                                                                                                                                                                                                                                                                                                                                                                                                                                                                                                                                                                                                                                                                                                                                                                                                                                                                                                                                                                                                                                                                                                                                                                                                                                                                                                                                                                                                                                                                                                                                                                                                                                                                                                                                                                                                                                                                                                                                                                                                                                                                                                                                                                                                                                                                                                                                                                                                                                                                                                                                                                                                                                                                                                                                                                                                                                                                                                                                                                                                                                                                                                                                                                                                                                                                                                                                                                                                                                                                                                                                                                                                                                                                                                                                              Fucking nigger Highly Offensive              1.0            True                     True\n",
      "nigger nigger nigger nigger nigger nigger nigger nigger nigger nigger nigger nigger nigger nigger nigger nigger nigger nigger nigger nigger nigger nigger nigger nigger nigger nigger nigger nigger nigger nigger nigger nigger nigger nigger nigger nigger nigger nigger nigger nigger nigger nigger nigger nigger nigger nigger nigger nigger nigger nigger nigger nigger nigger nigger nigger nigger nigger nigger nigger nigger nigger nigger nigger nigger nigger nigger nigger nigger nigger nigger nigger nigger nigger nigger nigger nigger nigger nigger nigger nigger nigger nigger nigger nigger nigger nigger nigger nigger nigger nigger nigger nigger nigger nigger nigger nigger nigger nigger nigger nigger nigger nigger nigger nigger nigger nigger nigger nigger nigger nigger nigger nigger nigger nigger nigger nigger nigger nigger nigger nigger nigger nigger nigger nigger nigger nigger nigger nigger nigger nigger nigger nigger nigger nigger nigger nigger nigger nigger nigger nigger nigger nigger nigger nigger nigger nigger nigger nigger nigger nigger nigger nigger nigger nigger nigger nigger nigger nigger nigger nigger nigger nigger nigger nigger nigger nigger nigger nigger nigger nigger nigger nigger nigger nigger nigger nigger nigger nigger nigger nigger nigger nigger nigger nigger nigger nigger nigger nigger nigger nigger nigger nigger nigger nigger nigger nigger nigger nigger nigger nigger nigger nigger nigger nigger nigger nigger nigger nigger nigger nigger nigger nigger nigger nigger nigger nigger nigger nigger nigger nigger nigger nigger nigger nigger nigger nigger nigger nigger nigger nigger nigger nigger nigger nigger nigger nigger nigger nigger nigger nigger nigger nigger nigger nigger nigger nigger nigger nigger nigger nigger nigger nigger nigger nigger nigger nigger nigger nigger nigger nigger nigger nigger nigger nigger nigger nigger nigger nigger nigger nigger nigger nigger nigger nigger nigger nigger nigger nigger nigger nigger nigger nigger nigger nigger nigger nigger nigger nigger nigger nigger nigger nigger nigger nigger nigger nigger nigger nigger nigger nigger nigger nigger nigger nigger nigger nigger nigger nigger nigger nigger nigger nigger nigger nigger nigger nigger nigger nigger nigger nigger nigger nigger nigger nigger nigger nigger nigger nigger nigger nigger nigger nigger nigger nigger nigger nigger nigger nigger nigger nigger nigger nigger nigger nigger nigger nigger nigger nigger nigger nigger nigger nigger nigger nigger nigger nigger nigger nigger nigger nigger nigger nigger nigger nigger nigger nigger nigger nigger nigger nigger nigger nigger nigger nigger nigger nigger nigger nigger nigger nigger nigger nigger nigger nigger nigger nigger nigger nigger nigger nigger nigger nigger nigger nigger nigger nigger nigger nigger nigger nigger nigger nigger nigger nigger nigger nigger nigger nigger nigger nigger nigger nigger nigger nigger nigger nigger nigger nigger nigger nigger nigger nigger nigger nigger nigger nigger nigger nigger nigger nigger nigger nigger nigger nigger nigger nigger nigger nigger nigger nigger nigger nigger nigger nigger nigger nigger nigger nigger nigger nigger nigger nigger nigger nigger nigger nigger nigger nigger nigger nigger nigger nigger nigger nigger nigger nigger nigger nigger nigger nigger nigger nigger nigger nigger nigger nigger nigger nigger nigger nigger nigger nigger nigger nigger nigger nigger nigger nigger nigger nigger nigger nigger nigger nigger nigger nigger nigger nigger nigger nigger nigger nigger nigger nigger nigger nigger nigger nigger nigger nigger nigger nigger nigger nigger nigger nigger nigger nigger nigger nigger nigger nigger nigger nigger nigger nigger nigger nigger nigger nigger nigger nigger nigger nigger nigger nigger nigger nigger nigger nigger nigger nigger nigger nigger nigger nigger nigger nigger nigger nigger nigger nigger nigger nigger nigger nigger nigger nigger nigger nigger nigger nigger nigger nigger nigger nigger nigger nigger nigger nigger nigger nigger nigger nigger nigger nigger nigger nigger nigger nigger nigger nigger nigger nigger nigger nigger nigger nigger nigger nigger nigger nigger nigger nigger nigger nigger nigger nigger nigger nigger nigger nigger nigger nigger nigger nigger nigger nigger nigger nigger nigger nigger nigger nigger nigger nigger nigger nigger nigger nigger nigger nigger nigger nigger nigger nigger nigger nigger nigger nigger nigger nigger nigger nigger nigger nigger nigger nigger nigger nigger nigger nigger nigger nigger nigger nigger nigger nigger nigger nigger nigger nigger nigger nigger nigger nigger nigger nigger nigger nigger nigger nigger nigger nigger nigger nigger nigger nigger nigger nigger nigger nigger nigger nigger nigger nigger nigger nigger nigger nigger nigger nigger nigger nigger nigger nigger nigger nigger nigger nigger nigger nigger nigger nigger nigger nigger nigger nigger nigger nigger nigger nigger nigger nigger nigger nigger nigger nigger nigger nigger nigger nigger nigger nigger nigger nigger nigger nigger nigger nigger nigger nigger nigger nigger nigger nigger nigger nigger nigger nigger nigger nigger nigger nigger nigger nigger nigger nigger nigger nigger nigger nigger nigger nigger nigger nigger nigger nigger nigger nigger nigger nigger nigger nigger nigger nigger nigger nigger nigger nigger nigger nigger nigger nigger nigger nigger nigger nigger nigger nigger nigger nigger nigger nigger nigger nigger nigger nigger nigger nigger nigger nigger nigger nigger nigger nigger nigger nigger nigger nigger nigger nigger nigger nigger nigger nigger nigger nigger nigger nigger nigger nigger nigger nigger nigger nigger nigger nigger nigger nigger nigger nigger nigger nigger nigger nigger nigger nigger nigger nigger nigger nigger nigger nigger nigger nigger nigger nigger nigger nigger nigger nigger nigger nigger nigger nigger nigger nigger nigger nigger nigger nigger nigger nigger nigger nigger nigger nigger nigger nigger nigger nigger nigger nigger nigger nigger nigger nigger nigger nigger nigger nigger nigger nigger nigger nigger nigger nigger nigger nigger nigger nigger nigger nigger nigger nigger nigger nigger nigger nigger nigger nigger nigger nigger nigger nigger nigger nigger nigger nigger nigger nigger nigger nigger nigger nigger nigger nigger nigger nigger nigger nigger nigger nigger nigger nigger nigger nigger nigger nigger nigger nigger nigger nigger nigger nigger nigger nigger nigger nigger nigger nigger nigger nigger nigger nigger nigger nigger nigger nigger nigger nigger nigger nigger nigger nigger nigger nigger nigger nigger nigger nigger nigger nigger nigger nigger nigger nigger nigger nigger nigger nigger nigger nigger nigger nigger nigger nigger nigger nigger nigger nigger nigger nigger nigger nigger nigger nigger nigger nigger nigger nigger nigger nigger nigger nigger nigger nigger nigger nigger nigger nigger nigger nigger nigger nigger nigger nigger nigger nigger nigger nigger nigger nigger nigger nigger nigger nigger nigger nigger nigger nigger nigger nigger nigger nigger nigger nigger nigger nigger nigger nigger nigger nigger nigger nigger nigger nigger nigger nigger nigger nigger nigger nigger nigger nigger nigger nigger nigger nigger nigger nigger nigger nigger nigger nigger nigger nigger nigger nigger nigger nigger nigger nigger nigger nigger nigger nigger nigger nigger nigger nigger nigger nigger nigger nigger nigger nigger nigger nigger nigger nigger nigger nigger nigger nigger nigger nigger nigger nigger nigger nigger nigger nigger nigger nigger nigger nigger nigger nigger nigger nigger nigger nigger nigger nigger nigger nigger nigger nigger nigger nigger nigger nigger nigger nigger nigger nigger nigger nigger nigger nigger nigger nigger nigger nigger nigger nigger nigger nigger nigger nigger nigger nigger nigger nigger nigger nigger nigger nigger nigger nigger nigger nigger nigger nigger nigger nigger nigger nigger nigger nigger nigger nigger nigger nigger nigger nigger nigger nigger nigger nigger nigger nigger nigger nigger nigger nigger nigger nigger nigger nigger nigger nigger nigger nigger nigger nigger nigger nigger nigger nigger nigger nigger nigger nigger nigger nigger nigger nigger nigger nigger nigger nigger nigger nigger nigger nigger nigger nigger nigger nigger nigger nigger nigger nigger nigger nigger nigger nigger nigger nigger nigger nigger nigger nigger nigger nigger nigger nigger nigger nigger nigger nigger nigger nigger nigger nigger nigger nigger nigger nigger nigger nigger nigger nigger nigger nigger nigger nigger nigger nigger nigger nigger nigger nigger nigger nigger nigger nigger nigger nigger nigger nigger nigger nigger nigger nigger nigger nigger nigger\\nfuck niggers Highly Offensive              1.0            True                     True\n"
     ]
    }
   ],
   "source": [
    "# Cell A: Broaden Offensive Language Detection Using `better-profanity`\n",
    "# ------------------------------------------------------------------------------\n",
    "from better_profanity import profanity\n",
    "\n",
    "# Initialize the `better-profanity` library with a custom word list\n",
    "profanity.load_censor_words(highly_offensive_words)\n",
    "\n",
    "def contains_broader_offensive_language(comment):\n",
    "    \"\"\"\n",
    "    Checks if a comment contains offensive words using `better-profanity`.\n",
    "\n",
    "    Args:\n",
    "    - comment (str): The comment text.\n",
    "\n",
    "    Returns:\n",
    "    - bool: True if offensive language is detected, False otherwise.\n",
    "    \"\"\"\n",
    "    return profanity.contains_profanity(comment)\n",
    "\n",
    "# Broader offensive language detection\n",
    "df_sentiments['Expanded_Offensive_Flag'] = df_sentiments['Comment'].apply(contains_broader_offensive_language)\n",
    "expanded_flagged_count = df_sentiments['Expanded_Offensive_Flag'].sum()\n",
    "print(f\"\\nNumber of Comments Identified as Offensive (Broader Detection): {expanded_flagged_count}\")\n",
    "\n",
    "# Display a few flagged examples for verification\n",
    "if expanded_flagged_count > 0:\n",
    "    print(\"\\nSample Broader Offensive Comments:\")\n",
    "    print(df_sentiments[df_sentiments['Expanded_Offensive_Flag']].head(5).to_string(index=False))\n"
   ]
  },
  {
   "cell_type": "code",
   "execution_count": 11,
   "metadata": {},
   "outputs": [
    {
     "name": "stdout",
     "output_type": "stream",
     "text": [
      "Distribution of Offensive Categories:\n",
      " Offensive_Category\n",
      "Non-Offensive           828\n",
      "Mildly Offensive         44\n",
      "Moderately Offensive     20\n",
      "Highly Offensive          8\n",
      "Name: count, dtype: int64\n"
     ]
    }
   ],
   "source": [
    "# Cell B: Granular Categorization of Offensive Language\n",
    "# ------------------------------------------------------------------------------\n",
    "mild_offensive_words = [\"shit\", \"bitch\", \"ass\", \"damn\"]\n",
    "moderate_offensive_words = [\"fuck\", \"dick\", \"whore\"]\n",
    "\n",
    "def categorize_offensive_language(comment):\n",
    "    \"\"\"\n",
    "    Categorizes offensive language into different levels of severity.\n",
    "\n",
    "    Args:\n",
    "    - comment (str): The comment text.\n",
    "\n",
    "    Returns:\n",
    "    - str: The offensive category based on severity.\n",
    "    \"\"\"\n",
    "    comment_lower = comment.lower()\n",
    "    if any(word in comment_lower for word in highly_offensive_words):\n",
    "        return \"Highly Offensive\"\n",
    "    elif any(word in comment_lower for word in moderate_offensive_words):\n",
    "        return \"Moderately Offensive\"\n",
    "    elif any(word in comment_lower for word in mild_offensive_words):\n",
    "        return \"Mildly Offensive\"\n",
    "    else:\n",
    "        return \"Non-Offensive\"\n",
    "\n",
    "# Apply categorization to each comment\n",
    "df_sentiments['Offensive_Category'] = df_sentiments['Comment'].apply(categorize_offensive_language)\n",
    "print(\"Distribution of Offensive Categories:\\n\", df_sentiments['Offensive_Category'].value_counts())\n"
   ]
  },
  {
   "cell_type": "code",
   "execution_count": 12,
   "metadata": {},
   "outputs": [
    {
     "name": "stdout",
     "output_type": "stream",
     "text": [
      "Average Sentiment Scores for Each Offensive Category:\n",
      " Offensive_Category\n",
      "Highly Offensive        1.000000\n",
      "Mildly Offensive        0.976880\n",
      "Moderately Offensive    0.940857\n",
      "Non-Offensive           0.962233\n",
      "Name: Sentiment Score, dtype: float64\n",
      "Sentiment Label Distribution Across Offensive Categories:\n",
      " Sentiment Label       Highly Offensive  NEGATIVE  POSITIVE\n",
      "Offensive_Category                                        \n",
      "Highly Offensive                     8         0         0\n",
      "Mildly Offensive                     0        31        13\n",
      "Moderately Offensive                 0        12         8\n",
      "Non-Offensive                        0       483       345\n"
     ]
    }
   ],
   "source": [
    "# Cell C: Analyze Sentiment Shifts Across Offensive Categories\n",
    "# ------------------------------------------------------------------------------\n",
    "category_sentiment_scores = df_sentiments.groupby('Offensive_Category')['Sentiment Score'].mean()\n",
    "print(\"Average Sentiment Scores for Each Offensive Category:\\n\", category_sentiment_scores)\n",
    "\n",
    "# Distribution of sentiment labels across offensive categories\n",
    "category_sentiment_distribution = pd.crosstab(df_sentiments['Offensive_Category'], df_sentiments['Sentiment Label'])\n",
    "print(\"Sentiment Label Distribution Across Offensive Categories:\\n\", category_sentiment_distribution)\n"
   ]
  },
  {
   "cell_type": "code",
   "execution_count": 13,
   "metadata": {},
   "outputs": [
    {
     "name": "stdout",
     "output_type": "stream",
     "text": [
      "\n",
      "Number of Misclassified Positive Comments: 21\n",
      "Sample Misclassified Positive Comments:\n",
      "                                                                                                                                                                                                                                                                                                                                                                                                                                                                                                                                                                                                                             Comment Sentiment Label  Sentiment Score  Offensive_Flag  Expanded_Offensive_Flag   Offensive_Category\n",
      "No one fucking cares. You're a 12 year old. There comes a point where you're too old for the whole I'm so goofy and fun every second of every day schtick. Yeah you're impressing douchey 14 year olds who waste their lives on YouTube but to the real world you and your fucktard brother are nothing more than a pair of over privileged, white privileged toddlers. Grow the fuck up man. You think this will be your life forever. One day you're going to face the real world and realize you can't just jump around and scream your way to a real job. Or you can't hair flip your way out of an inevitable date rape charge.        POSITIVE         0.980753           False                    False Moderately Offensive\n",
      "                                                                                                                                                                                                                                                                                                                                                                                                                                                                                                                                                                                                           #1 on trending, FUCK YES!        POSITIVE         0.528384           False                    False Moderately Offensive\n",
      "                                                                                                                                                                                                                                                                                                                                                                                                                                                                                                                                                                                              this isn't a bad thing... shit happens        POSITIVE         0.995962           False                    False     Mildly Offensive\n",
      "                                                                                                                                                                                                                                                                                                                                   pewdiepie had nothing to be sorry about.  everybody who is mad at him need to get their head out of their ass and get over themselves.  or maybe when a black person makes an offensive remark about a white person i should call them racist and see how they like it.  turn about is fair play.        POSITIVE         0.998894           False                    False     Mildly Offensive\n",
      "                                                                                                                                                                                                                                                                                                                                                                                                                                                                                            Blacks folks say that shit with every sentence and when whitey says it on accident without disrespectful thoughts the whole world turns.        POSITIVE         0.904546           False                    False     Mildly Offensive\n"
     ]
    }
   ],
   "source": [
    "# Cell D: Investigate Misclassified Positive Comments in Offensive Categories\n",
    "# ------------------------------------------------------------------------------\n",
    "# Extract and analyze misclassified positive comments in offensive categories\n",
    "misclassified_positives = df_sentiments[\n",
    "    (df_sentiments['Sentiment Label'] == 'POSITIVE') &\n",
    "    (df_sentiments['Offensive_Category'].isin(['Mildly Offensive', 'Moderately Offensive']))\n",
    "]\n",
    "print(f\"\\nNumber of Misclassified Positive Comments: {len(misclassified_positives)}\")\n",
    "\n",
    "# Display a few misclassified positive comments\n",
    "if len(misclassified_positives) > 0:\n",
    "    print(\"Sample Misclassified Positive Comments:\")\n",
    "    print(misclassified_positives.head(5).to_string(index=False))\n"
   ]
  },
  {
   "cell_type": "code",
   "execution_count": 14,
   "metadata": {},
   "outputs": [
    {
     "name": "stdout",
     "output_type": "stream",
     "text": [
      "\n",
      "Comparison of Original vs Adjusted Offensive Categories:\n",
      "                                                                                Comment Offensive_Category Adjusted_Offensive_Category  Offensive_Word_Count\n",
      "                                                      Logan Paul it's yo big day ‼️‼️‼️      Non-Offensive               Non-Offensive                     0\n",
      "I've been following you from the start of your vine channel and have seen all 365 vlogs      Non-Offensive               Non-Offensive                     0\n",
      "                                                     Say hi to Kong and maverick for me      Non-Offensive               Non-Offensive                     0\n",
      "                                                                    MY FAN . attendance      Non-Offensive               Non-Offensive                     0\n",
      "                                                                             trending 😉      Non-Offensive               Non-Offensive                     0\n",
      "                                                                #1 on trending AYYEEEEE      Non-Offensive               Non-Offensive                     0\n",
      "                                                                   The end though 😭👍🏻❤️      Non-Offensive               Non-Offensive                     0\n",
      "                                                                   #1 trending!!!!!!!!!      Non-Offensive               Non-Offensive                     0\n",
      "                                                            Happy one year vlogaversary      Non-Offensive               Non-Offensive                     0\n",
      "        You and your shit brother may have single handedly ruined YouTube.....thanks...   Mildly Offensive            Mildly Offensive                     1\n"
     ]
    }
   ],
   "source": [
    "# Cell E: Apply Offensive Word Density Modifier\n",
    "# ------------------------------------------------------------------------------\n",
    "def count_offensive_words(comment, offensive_list):\n",
    "    \"\"\"\n",
    "    Count the number of offensive words in a given comment.\n",
    "\n",
    "    Args:\n",
    "    - comment (str): The comment text.\n",
    "    - offensive_list (list): List of offensive words to look for.\n",
    "\n",
    "    Returns:\n",
    "    - int: The count of offensive words in the comment.\n",
    "    \"\"\"\n",
    "    words = re.findall(r'\\b\\w+\\b', comment.lower())  # Tokenize the comment\n",
    "    return sum(1 for word in words if word in offensive_list)\n",
    "\n",
    "def adjust_offensive_category(count):\n",
    "    \"\"\"\n",
    "    Categorizes the severity level based on offensive word count.\n",
    "\n",
    "    Args:\n",
    "    - count (int): Number of offensive words in the comment.\n",
    "\n",
    "    Returns:\n",
    "    - str: Adjusted offensive category.\n",
    "    \"\"\"\n",
    "    if count >= 5:\n",
    "        return \"Highly Offensive\"\n",
    "    elif count >= 3:\n",
    "        return \"Moderately Offensive\"\n",
    "    elif count >= 1:\n",
    "        return \"Mildly Offensive\"\n",
    "    else:\n",
    "        return \"Non-Offensive\"\n",
    "\n",
    "# Expanded offensive word list for density analysis\n",
    "offensive_word_list = highly_offensive_words + mild_offensive_words + moderate_offensive_words\n",
    "\n",
    "# Count offensive words and classify severity\n",
    "df_sentiments['Offensive_Word_Count'] = df_sentiments['Comment'].apply(lambda x: count_offensive_words(x, offensive_word_list))\n",
    "df_sentiments['Adjusted_Offensive_Category'] = df_sentiments['Offensive_Word_Count'].apply(adjust_offensive_category)\n",
    "\n",
    "# Display results\n",
    "print(\"\\nComparison of Original vs Adjusted Offensive Categories:\")\n",
    "print(df_sentiments[['Comment', 'Offensive_Category', 'Adjusted_Offensive_Category', 'Offensive_Word_Count']].head(10).to_string(index=False))\n"
   ]
  },
  {
   "cell_type": "code",
   "execution_count": 15,
   "metadata": {},
   "outputs": [
    {
     "name": "stdout",
     "output_type": "stream",
     "text": [
      "\n",
      "Comparison of Original vs Adjusted vs Refined Offensive Categories:\n",
      "                                                                                Comment Offensive_Category Adjusted_Offensive_Category Refined_Offensive_Category  Offensive_Word_Count\n",
      "                                                      Logan Paul it's yo big day ‼️‼️‼️      Non-Offensive               Non-Offensive              Non-Offensive                     0\n",
      "I've been following you from the start of your vine channel and have seen all 365 vlogs      Non-Offensive               Non-Offensive              Non-Offensive                     0\n",
      "                                                     Say hi to Kong and maverick for me      Non-Offensive               Non-Offensive              Non-Offensive                     0\n",
      "                                                                    MY FAN . attendance      Non-Offensive               Non-Offensive              Non-Offensive                     0\n",
      "                                                                             trending 😉      Non-Offensive               Non-Offensive              Non-Offensive                     0\n",
      "                                                                #1 on trending AYYEEEEE      Non-Offensive               Non-Offensive              Non-Offensive                     0\n",
      "                                                                   The end though 😭👍🏻❤️      Non-Offensive               Non-Offensive              Non-Offensive                     0\n",
      "                                                                   #1 trending!!!!!!!!!      Non-Offensive               Non-Offensive              Non-Offensive                     0\n",
      "                                                            Happy one year vlogaversary      Non-Offensive               Non-Offensive              Non-Offensive                     0\n",
      "        You and your shit brother may have single handedly ruined YouTube.....thanks...   Mildly Offensive            Mildly Offensive           Mildly Offensive                     1\n"
     ]
    }
   ],
   "source": [
    "# Cell F: Enhanced Offensive Classification with Context-Based Escalation\n",
    "# ------------------------------------------------------------------------------\n",
    "offensive_patterns = [\n",
    "    r\"fuck(ing)?\", r\"shit(ty)?\", r\"bitch\", r\"asshole\", r\"prick\", r\"cunt\", r\"fucker\",\n",
    "    r\"nigger\", r\"faggot\", r\"retard\", r\"whore\", r\"moron\", r\"idiot\", r\"slut\", r\"whore\"\n",
    "]\n",
    "\n",
    "def count_offensive_patterns(comment, pattern_list):\n",
    "    \"\"\"\n",
    "    Counts the number of matches for offensive patterns in the comment.\n",
    "\n",
    "    Args:\n",
    "    - comment (str): The comment text.\n",
    "    - pattern_list (list): List of offensive patterns to check.\n",
    "\n",
    "    Returns:\n",
    "    - int: Total count of offensive pattern matches in the comment.\n",
    "    \"\"\"\n",
    "    return sum(len(re.findall(pattern, comment.lower())) for pattern in pattern_list)\n",
    "\n",
    "def enhanced_offensive_classification(comment, offensive_list, pattern_list):\n",
    "    \"\"\"\n",
    "    Applies a refined offensive classification based on word and pattern densities.\n",
    "\n",
    "    Args:\n",
    "    - comment (str): The comment text.\n",
    "    - offensive_list (list): List of offensive words.\n",
    "    - pattern_list (list): List of offensive patterns.\n",
    "\n",
    "    Returns:\n",
    "    - str: Refined offensive category.\n",
    "    \"\"\"\n",
    "    offensive_word_count = count_offensive_words(comment, offensive_list)\n",
    "    pattern_count = count_offensive_patterns(comment, pattern_list)\n",
    "    total_offense_count = offensive_word_count + pattern_count\n",
    "\n",
    "    # Escalate severity based on combined counts\n",
    "    if total_offense_count >= 5 or pattern_count >= 3:\n",
    "        return \"Highly Offensive\"\n",
    "    elif total_offense_count >= 3:\n",
    "        return \"Moderately Offensive\"\n",
    "    elif total_offense_count >= 1:\n",
    "        return \"Mildly Offensive\"\n",
    "    else:\n",
    "        return \"Non-Offensive\"\n",
    "\n",
    "# Apply the refined classification\n",
    "df_sentiments['Refined_Offensive_Category'] = df_sentiments['Comment'].apply(\n",
    "    lambda x: enhanced_offensive_classification(x, offensive_word_list, offensive_patterns)\n",
    ")\n",
    "\n",
    "# Display the comparison of original, adjusted, and refined categories\n",
    "print(\"\\nComparison of Original vs Adjusted vs Refined Offensive Categories:\")\n",
    "print(df_sentiments[['Comment', 'Offensive_Category', 'Adjusted_Offensive_Category', 'Refined_Offensive_Category', 'Offensive_Word_Count']].head(10).to_string(index=False))\n"
   ]
  },
  {
   "cell_type": "code",
   "execution_count": 16,
   "metadata": {},
   "outputs": [
    {
     "name": "stdout",
     "output_type": "stream",
     "text": [
      "\n",
      "Comparison of Original, Adjusted, and Weighted Offensive Categories:\n",
      "                                                                                Comment Offensive_Category Refined_Offensive_Category Weighted_Offensive_Category\n",
      "                                                      Logan Paul it's yo big day ‼️‼️‼️      Non-Offensive              Non-Offensive               Non-Offensive\n",
      "I've been following you from the start of your vine channel and have seen all 365 vlogs      Non-Offensive              Non-Offensive               Non-Offensive\n",
      "                                                     Say hi to Kong and maverick for me      Non-Offensive              Non-Offensive               Non-Offensive\n",
      "                                                                    MY FAN . attendance      Non-Offensive              Non-Offensive               Non-Offensive\n",
      "                                                                             trending 😉      Non-Offensive              Non-Offensive               Non-Offensive\n",
      "                                                                #1 on trending AYYEEEEE      Non-Offensive              Non-Offensive               Non-Offensive\n",
      "                                                                   The end though 😭👍🏻❤️      Non-Offensive              Non-Offensive               Non-Offensive\n",
      "                                                                   #1 trending!!!!!!!!!      Non-Offensive              Non-Offensive               Non-Offensive\n",
      "                                                            Happy one year vlogaversary      Non-Offensive              Non-Offensive               Non-Offensive\n",
      "        You and your shit brother may have single handedly ruined YouTube.....thanks...   Mildly Offensive           Mildly Offensive            Mildly Offensive\n"
     ]
    }
   ],
   "source": [
    "# Cell G: Final Weighted Sentiment Escalation\n",
    "# ------------------------------------------------------------------------------\n",
    "def weighted_offensive_score(comment, offensive_list, pattern_list):\n",
    "    \"\"\"\n",
    "    Computes a weighted offensive score based on word density and patterns.\n",
    "\n",
    "    Args:\n",
    "    - comment (str): The comment text.\n",
    "    - offensive_list (list): List of offensive words.\n",
    "    - pattern_list (list): List of offensive patterns.\n",
    "\n",
    "    Returns:\n",
    "    - float: Total weighted offensive score.\n",
    "    \"\"\"\n",
    "    offensive_word_count = count_offensive_words(comment, offensive_list)\n",
    "    pattern_count = count_offensive_patterns(comment, pattern_list)\n",
    "    total_indicators = offensive_word_count + pattern_count\n",
    "\n",
    "    # Apply weighting based on frequency and density\n",
    "    word_density_weight = 1.5 if offensive_word_count >= 3 else 1  # Higher weight for high word density\n",
    "    pattern_weight = 2 if pattern_count >= 3 else 1  # Escalate pattern severity if frequent\n",
    "\n",
    "    return total_indicators * word_density_weight * pattern_weight\n",
    "\n",
    "def classify_offensive_category(comment, offensive_list, pattern_list):\n",
    "    \"\"\"\n",
    "    Classifies offensive severity based on the weighted score.\n",
    "\n",
    "    Args:\n",
    "    - comment (str): The comment text.\n",
    "    - offensive_list (list): List of offensive words.\n",
    "    - pattern_list (list): List of offensive patterns.\n",
    "\n",
    "    Returns:\n",
    "    - str: Offensive category based on the weighted score.\n",
    "    \"\"\"\n",
    "    score = weighted_offensive_score(comment, offensive_list, pattern_list)\n",
    "    if score >= 7:\n",
    "        return \"Highly Offensive\"\n",
    "    elif score >= 4:\n",
    "        return \"Moderately Offensive\"\n",
    "    elif score >= 1:\n",
    "        return \"Mildly Offensive\"\n",
    "    else:\n",
    "        return \"Non-Offensive\"\n",
    "\n",
    "# Apply final weighted sentiment escalation\n",
    "df_sentiments['Weighted_Offensive_Category'] = df_sentiments['Comment'].apply(\n",
    "    lambda x: classify_offensive_category(x, offensive_word_list, offensive_patterns)\n",
    ")\n",
    "\n",
    "print(\"\\nComparison of Original, Adjusted, and Weighted Offensive Categories:\")\n",
    "print(df_sentiments[['Comment', 'Offensive_Category', 'Refined_Offensive_Category', 'Weighted_Offensive_Category']].head(10).to_string(index=False))\n"
   ]
  },
  {
   "cell_type": "code",
   "execution_count": 17,
   "metadata": {},
   "outputs": [
    {
     "name": "stdout",
     "output_type": "stream",
     "text": [
      "\n",
      "Updated Results with Refined Weighting Adjustments:\n",
      "                                                                                Comment Weighted_Offensive_Category Refined_Weighted_Category\n",
      "                                                      Logan Paul it's yo big day ‼️‼️‼️               Non-Offensive             Non-Offensive\n",
      "I've been following you from the start of your vine channel and have seen all 365 vlogs               Non-Offensive             Non-Offensive\n",
      "                                                     Say hi to Kong and maverick for me               Non-Offensive             Non-Offensive\n",
      "                                                                    MY FAN . attendance               Non-Offensive             Non-Offensive\n",
      "                                                                             trending 😉               Non-Offensive             Non-Offensive\n",
      "                                                                #1 on trending AYYEEEEE               Non-Offensive             Non-Offensive\n",
      "                                                                   The end though 😭👍🏻❤️               Non-Offensive             Non-Offensive\n",
      "                                                                   #1 trending!!!!!!!!!               Non-Offensive             Non-Offensive\n",
      "                                                            Happy one year vlogaversary               Non-Offensive             Non-Offensive\n",
      "        You and your shit brother may have single handedly ruined YouTube.....thanks...            Mildly Offensive          Mildly Offensive\n"
     ]
    }
   ],
   "source": [
    "# Cell H: Fine-Tuning with Higher Multipliers for Extreme Language\n",
    "# ------------------------------------------------------------------------------\n",
    "def weighted_offensive_score_refined(comment, offensive_list, pattern_list):\n",
    "    \"\"\"\n",
    "    Refines offensive scoring by increasing multipliers for extreme language.\n",
    "\n",
    "    Args:\n",
    "    - comment (str): The comment text.\n",
    "    - offensive_list (list): List of offensive words.\n",
    "    - pattern_list (list): List of offensive patterns.\n",
    "\n",
    "    Returns:\n",
    "    - float: Refined weighted score.\n",
    "    \"\"\"\n",
    "    offensive_word_count = count_offensive_words(comment, offensive_list)\n",
    "    pattern_count = count_offensive_patterns(comment, pattern_list)\n",
    "    total_indicators = offensive_word_count + pattern_count\n",
    "\n",
    "    # Adjust weighting logic based on term severity\n",
    "    word_density_weight = 2.5 if offensive_word_count >= 3 else 1.5\n",
    "    pattern_weight = 3 if pattern_count >= 3 else 2\n",
    "\n",
    "    # Extreme term handling\n",
    "    if any(term in comment.lower() for term in [\"nigger\", \"faggot\"]):\n",
    "        total_indicators *= 3  # Higher multiplier for extreme words\n",
    "\n",
    "    return total_indicators * word_density_weight * pattern_weight\n",
    "\n",
    "# Adjust categorization using refined score\n",
    "df_sentiments['Refined_Weighted_Category'] = df_sentiments['Comment'].apply(\n",
    "    lambda x: classify_offensive_category(x, offensive_word_list, offensive_patterns)\n",
    ")\n",
    "\n",
    "# Display the refined categorization changes\n",
    "print(\"\\nUpdated Results with Refined Weighting Adjustments:\")\n",
    "print(df_sentiments[['Comment', 'Weighted_Offensive_Category', 'Refined_Weighted_Category']].head(10).to_string(index=False))\n"
   ]
  },
  {
   "cell_type": "code",
   "execution_count": 18,
   "metadata": {},
   "outputs": [
    {
     "name": "stdout",
     "output_type": "stream",
     "text": [
      "\n",
      "Comparison of Refined vs Final Weighted Categories with New Logic:\n",
      "                                                                                Comment Weighted_Offensive_Category Refined_Weighted_Category Final_Weighted_Category  Offensive_Word_Count\n",
      "                                                      Logan Paul it's yo big day ‼️‼️‼️               Non-Offensive             Non-Offensive           Non-Offensive                     0\n",
      "I've been following you from the start of your vine channel and have seen all 365 vlogs               Non-Offensive             Non-Offensive           Non-Offensive                     0\n",
      "                                                     Say hi to Kong and maverick for me               Non-Offensive             Non-Offensive           Non-Offensive                     0\n",
      "                                                                    MY FAN . attendance               Non-Offensive             Non-Offensive           Non-Offensive                     0\n",
      "                                                                             trending 😉               Non-Offensive             Non-Offensive           Non-Offensive                     0\n",
      "                                                                #1 on trending AYYEEEEE               Non-Offensive             Non-Offensive           Non-Offensive                     0\n",
      "                                                                   The end though 😭👍🏻❤️               Non-Offensive             Non-Offensive           Non-Offensive                     0\n",
      "                                                                   #1 trending!!!!!!!!!               Non-Offensive             Non-Offensive           Non-Offensive                     0\n",
      "                                                            Happy one year vlogaversary               Non-Offensive             Non-Offensive           Non-Offensive                     0\n",
      "        You and your shit brother may have single handedly ruined YouTube.....thanks...            Mildly Offensive          Mildly Offensive        Mildly Offensive                     1\n"
     ]
    }
   ],
   "source": [
    "# ------------------------------------------------------------------------------\n",
    "# Cell I: Multi-Word Hostility and Sentiment-Based Weighting\n",
    "# ------------------------------------------------------------------------------\n",
    "\n",
    "import numpy as np\n",
    "\n",
    "# Step 1: Define thresholds for categorizing multi-word hostility\n",
    "def multi_word_hostility_weight(comment, offensive_word_count):\n",
    "    \"\"\"\n",
    "    Adjust weight based on the number of offensive words in a comment.\n",
    "\n",
    "    Args:\n",
    "    - comment (str): The comment text.\n",
    "    - offensive_word_count (int): Count of offensive words in the comment.\n",
    "\n",
    "    Returns:\n",
    "    - float: Weight value based on the severity of offensive word count.\n",
    "    \"\"\"\n",
    "    if offensive_word_count >= 3:\n",
    "        return 2  # High severity for comments with 3 or more offensive words\n",
    "    elif offensive_word_count == 2:\n",
    "        return 1.5  # Medium severity for 2 offensive words\n",
    "    else:\n",
    "        return 1  # Default weight for single or zero offensive words\n",
    "\n",
    "# Step 2: Create a function to apply sentiment-based weighting\n",
    "def sentiment_based_weighting(sentiment_score):\n",
    "    \"\"\"\n",
    "    Adjust weight based on the sentiment score of the comment.\n",
    "\n",
    "    Args:\n",
    "    - sentiment_score (float): Sentiment score of the comment.\n",
    "\n",
    "    Returns:\n",
    "    - float: Weight value based on the sentiment intensity.\n",
    "    \"\"\"\n",
    "    if sentiment_score < 0.3:\n",
    "        return 1.5  # Increase weight for highly negative sentiment\n",
    "    elif sentiment_score < 0.5:\n",
    "        return 1.2  # Mild increase for slightly negative sentiment\n",
    "    else:\n",
    "        return 1  # Default for neutral or positive sentiment\n",
    "\n",
    "# Step 3: Adjust final weighted category based on the new logic\n",
    "def compute_final_offensive_category(row):\n",
    "    \"\"\"\n",
    "    Computes the final offensive category by combining all weight modifiers.\n",
    "\n",
    "    Args:\n",
    "    - row (DataFrame Row): Row of the sentiment DataFrame.\n",
    "\n",
    "    Returns:\n",
    "    - str: Final offensive category.\n",
    "    \"\"\"\n",
    "    mw_hostility_weight = multi_word_hostility_weight(row['Comment'], row['Offensive_Word_Count'])\n",
    "    sentiment_weight = sentiment_based_weighting(row['Sentiment Score'])\n",
    "\n",
    "    # Calculate the final weight multiplier\n",
    "    final_weight = mw_hostility_weight * sentiment_weight\n",
    "\n",
    "    # Adjust the offensive category based on the final calculated weight\n",
    "    if final_weight >= 2:\n",
    "        return \"Highly Offensive\"\n",
    "    elif final_weight >= 1.5:\n",
    "        return \"Moderately Offensive\"\n",
    "    elif final_weight > 1:\n",
    "        return \"Mildly Offensive\"\n",
    "    else:\n",
    "        return row['Refined_Weighted_Category']  # Retain the existing category if no significant change\n",
    "\n",
    "# Step 4: Apply the new logic to create a final weighted category\n",
    "df_sentiments['Final_Weighted_Category'] = df_sentiments.apply(compute_final_offensive_category, axis=1)\n",
    "\n",
    "# Step 5: Display the results for comparison\n",
    "comparison_df = df_sentiments[['Comment', 'Weighted_Offensive_Category', 'Refined_Weighted_Category', 'Final_Weighted_Category', 'Offensive_Word_Count']]\n",
    "print(\"\\nComparison of Refined vs Final Weighted Categories with New Logic:\")\n",
    "print(comparison_df.head(10).to_string(index=False))"
   ]
  },
  {
   "cell_type": "code",
   "execution_count": 19,
   "metadata": {},
   "outputs": [
    {
     "name": "stdout",
     "output_type": "stream",
     "text": [
      "Sarcasm detection model 'helinivan/english-sarcasm-detector' loaded successfully on mps.\n",
      "\n",
      "Updated Comments with Sarcasm Integration (Showing the first few rows):\n",
      "                                                                                Comment Weighted_Offensive_Category Refined_Weighted_Category Final_Refined_Category_With_Sarcasm  Sarcasm_Flag\n",
      "                                                      Logan Paul it's yo big day ‼️‼️‼️               Non-Offensive             Non-Offensive                       Non-Offensive         False\n",
      "I've been following you from the start of your vine channel and have seen all 365 vlogs               Non-Offensive             Non-Offensive                       Non-Offensive         False\n",
      "                                                     Say hi to Kong and maverick for me               Non-Offensive             Non-Offensive                       Non-Offensive         False\n",
      "                                                                    MY FAN . attendance               Non-Offensive             Non-Offensive                       Non-Offensive         False\n",
      "                                                                             trending 😉               Non-Offensive             Non-Offensive                       Non-Offensive         False\n",
      "                                                                #1 on trending AYYEEEEE               Non-Offensive             Non-Offensive                       Non-Offensive         False\n",
      "                                                                   The end though 😭👍🏻❤️               Non-Offensive             Non-Offensive                       Non-Offensive         False\n",
      "                                                                   #1 trending!!!!!!!!!               Non-Offensive             Non-Offensive                       Non-Offensive         False\n",
      "                                                            Happy one year vlogaversary               Non-Offensive             Non-Offensive                    Mildly Offensive          True\n",
      "        You and your shit brother may have single handedly ruined YouTube.....thanks...            Mildly Offensive          Mildly Offensive                    Mildly Offensive         False\n"
     ]
    }
   ],
   "source": [
    "# Cell K: Strict Truncation and Updated Sarcasm Detection\n",
    "# ------------------------------------------------------------------------------\n",
    "from transformers import AutoTokenizer, AutoModelForSequenceClassification\n",
    "import torch\n",
    "\n",
    "# Load the Sarcasm Detection Model and Tokenizer\n",
    "sarcasm_model_name = \"helinivan/english-sarcasm-detector\"\n",
    "device = torch.device(\"mps\")  # Using the MPS device for Mac M1/M2 Silicon\n",
    "\n",
    "try:\n",
    "    sarcasm_tokenizer = AutoTokenizer.from_pretrained(sarcasm_model_name)\n",
    "    sarcasm_model = AutoModelForSequenceClassification.from_pretrained(sarcasm_model_name).to(device)\n",
    "    print(f\"Sarcasm detection model '{sarcasm_model_name}' loaded successfully on {device}.\")\n",
    "except Exception as e:\n",
    "    print(f\"Error loading sarcasm detection model '{sarcasm_model_name}': {e}\")\n",
    "\n",
    "# Define the strict truncation logic to handle long comments with an exact token limit\n",
    "def strict_truncate_comment(comment, max_length=512):\n",
    "    \"\"\"\n",
    "    Truncates a comment to ensure it does not exceed the model's maximum length.\n",
    "\n",
    "    Args:\n",
    "    - comment (str): The comment text.\n",
    "    - max_length (int): The maximum token length.\n",
    "\n",
    "    Returns:\n",
    "    - str: The truncated comment.\n",
    "    \"\"\"\n",
    "    inputs = sarcasm_tokenizer(comment, max_length=max_length, truncation=True, return_tensors=\"pt\", padding=\"max_length\")\n",
    "    truncated_comment = sarcasm_tokenizer.decode(inputs['input_ids'][0], skip_special_tokens=True)\n",
    "    return truncated_comment\n",
    "\n",
    "# Apply sarcasm detection with strict truncation\n",
    "def detect_sarcasm(comment):\n",
    "    \"\"\"\n",
    "    Detects sarcasm in a comment using a pre-trained model.\n",
    "\n",
    "    Args:\n",
    "    - comment (str): The comment text.\n",
    "\n",
    "    Returns:\n",
    "    - bool: True if sarcasm is detected, False otherwise.\n",
    "    \"\"\"\n",
    "    truncated_comment = strict_truncate_comment(comment)\n",
    "\n",
    "    # Perform sarcasm detection using the model\n",
    "    inputs = sarcasm_tokenizer(truncated_comment, return_tensors=\"pt\", max_length=512, truncation=True, padding=\"max_length\").to(device)\n",
    "    outputs = sarcasm_model(**inputs)\n",
    "\n",
    "    # Use the logits to determine sarcasm (0: Non-Sarcastic, 1: Sarcastic)\n",
    "    sarcasm_score = outputs.logits.softmax(dim=1)[0][1].item()\n",
    "    return sarcasm_score >= 0.6  # Set a threshold for sarcasm detection\n",
    "\n",
    "# Add a sarcasm detection flag to the DataFrame using the updated detection method\n",
    "df_sentiments['Sarcasm_Flag'] = df_sentiments['Comment'].apply(detect_sarcasm)\n",
    "\n",
    "# Apply sarcasm-based weighting adjustments\n",
    "def apply_sarcasm_adjustment(category, sarcasm_flag):\n",
    "    \"\"\"\n",
    "    Adjusts the offensive category based on sarcasm detection.\n",
    "\n",
    "    Args:\n",
    "    - category (str): The current offensive category.\n",
    "    - sarcasm_flag (bool): Sarcasm detection flag.\n",
    "\n",
    "    Returns:\n",
    "    - str: Adjusted offensive category based on sarcasm.\n",
    "    \"\"\"\n",
    "    if sarcasm_flag:\n",
    "        if category == \"Non-Offensive\":\n",
    "            return \"Mildly Offensive\"\n",
    "        elif category == \"Mildly Offensive\":\n",
    "            return \"Moderately Offensive\"\n",
    "        elif category == \"Moderately Offensive\":\n",
    "            return \"Highly Offensive\"\n",
    "    return category\n",
    "\n",
    "# Create the final sarcasm-weighted offensive category\n",
    "df_sentiments['Final_Refined_Category_With_Sarcasm'] = df_sentiments.apply(\n",
    "    lambda row: apply_sarcasm_adjustment(row['Refined_Weighted_Category'], row['Sarcasm_Flag']),\n",
    "    axis=1\n",
    ")\n",
    "\n",
    "# Display the updated results\n",
    "print(\"\\nUpdated Comments with Sarcasm Integration (Showing the first few rows):\")\n",
    "display_columns = ['Comment', 'Weighted_Offensive_Category', 'Refined_Weighted_Category', 'Final_Refined_Category_With_Sarcasm', 'Sarcasm_Flag']\n",
    "print(df_sentiments[display_columns].head(10).to_string(index=False))"
   ]
  },
  {
   "cell_type": "code",
   "execution_count": 20,
   "metadata": {},
   "outputs": [
    {
     "name": "stderr",
     "output_type": "stream",
     "text": [
      "Loading checkpoint shards: 100%|██████████| 2/2 [00:03<00:00,  1.77s/it]\n",
      "Hardware accelerator e.g. GPU is available in the environment, but no `device` argument is passed to the `Pipeline` object. Model will be on CPU.\n"
     ]
    },
    {
     "name": "stdout",
     "output_type": "stream",
     "text": [
      "Gemma-2b-it model 'google/gemma-2-2b-it' loaded successfully.\n"
     ]
    }
   ],
   "source": [
    "# Cell L: Load and Configure `gemma-2b-it` for Text Generation\n",
    "from transformers import AutoTokenizer, AutoModelForCausalLM, pipeline\n",
    "\n",
    "# Load the `gemma-2b-it` model and tokenizer for text generation\n",
    "gemma_model_name = \"google/gemma-2-2b-it\"\n",
    "gemma_tokenizer = AutoTokenizer.from_pretrained(gemma_model_name)\n",
    "gemma_text_generator = pipeline(\"text-generation\", model=gemma_model_name, tokenizer=gemma_tokenizer)\n",
    "\n",
    "print(f\"Gemma-2b-it model '{gemma_model_name}' loaded successfully.\")"
   ]
  },
  {
   "cell_type": "code",
   "execution_count": 21,
   "metadata": {},
   "outputs": [
    {
     "name": "stderr",
     "output_type": "stream",
     "text": [
      "Truncation was not explicitly activated but `max_length` is provided a specific value, please use `truncation=True` to explicitly truncate examples to max length. Defaulting to 'longest_first' truncation strategy. If you encode pairs of sequences (GLUE-style) with the tokenizer you can select this strategy more precisely by providing a specific strategy to `truncation`.\n",
      "The 'max_batch_size' argument of HybridCache is deprecated and will be removed in v4.46. Use the more precisely named 'batch_size' argument instead.\n",
      "Starting from v4.46, the `logits` model output will have the same type as the model (except at train time, where it will always be FP32)\n"
     ]
    },
    {
     "name": "stdout",
     "output_type": "stream",
     "text": [
      "\n",
      "Sample of Generated Responses Using `gemma-2b-it` Model:\n",
      "                                                                                Comment Sentiment Label  Sentiment Score                                                                                                                                                                                                                  Gemma_Response\n",
      "                                                      Logan Paul it's yo big day ‼️‼️‼️        POSITIVE         0.996544                                               The user said: 'Logan Paul it's yo big day ‼️‼️‼️'. Generate a friendly response.\\n\\nHere are some options:\\n\\nA.  \"Hey Logan, congrats on your big day! Hope it's everything you\n",
      "I've been following you from the start of your vine channel and have seen all 365 vlogs        POSITIVE         0.995116                                              The user said: 'I've been following you from the start of your vine channel and have seen all 365 vlogs'. Generate a friendly response.\\n\\nThat's awesome! I'm so glad you've been\n",
      "                                                     Say hi to Kong and maverick for me        POSITIVE         0.999260                                                           The user said: 'Say hi to Kong and maverick for me'. Generate a friendly response.\\n\\nHi there, Kong and Maverick! 👋  Hope you're both doing well.  Say hi back! 😊 \\n\n",
      "                                                                    MY FAN . attendance        POSITIVE         0.999641                              The user said: 'MY FAN . attendance'. Generate a friendly response.\\n\\nHey there! 👋  It sounds like you're checking on your fan's attendance.  \\n\\nTo help me out, could you tell me a little more\n",
      "                                                                             trending 😉        POSITIVE         0.886796                                                             The user said: 'trending 😉'. Generate a friendly response.\\n\\nHere are some options:\\n\\nA.  \"What's trending? Tell me all about it!\"\\nB.  \"Ooh, tell me what's hot!\n",
      "                                                                #1 on trending AYYEEEEE        POSITIVE         0.985437                                                       The user said: '#1 on trending AYYEEEEE'. Generate a friendly response.\\n\\nHere's what I'm thinking:\\n\\n**Option 1:  Acknowledge and engage**\\n\\n> \"Woah, that's awesome!\n",
      "                                                                   The end though 😭👍🏻❤️        NEGATIVE         0.967488                             The user said: 'The end though 😭👍🏻❤️'. Suggest a constructive response.\\n\\nHere's why this response is problematic:\\n\\n* **It's overly emotional and lacks context.**  \"The end though 😭👍🏻❤️\" could\n",
      "                                                                   #1 trending!!!!!!!!!        POSITIVE         0.997375                                                 The user said: '#1 trending!!!!!!!!!'. Generate a friendly response.\\n\\nHere are some options:\\n\\nA.  \"Wow, congrats! 🎉  What's got everyone so excited?\"\\nB.  \"That's awesome!\n",
      "                                                            Happy one year vlogaversary        POSITIVE         0.999814                                        The user said: 'Happy one year vlogaversary'. Generate a friendly response.\\n\\nHere's what I'd like to see:\\n\\n* **Acknowledge the user's sentiment:**  I see you're celebrating a vloga\n",
      "        You and your shit brother may have single handedly ruined YouTube.....thanks...        NEGATIVE         0.999766 The user said: 'You and your shit brother may have single handedly ruined YouTube.....thanks...'. Suggest a constructive response.\\n\\nThis is a very aggressive and negative comment. Here's how I could respond:\\n\\n**Option 1\n"
     ]
    }
   ],
   "source": [
    "# Cell M: Generate Contextual Responses Based on Sentiment Labels\n",
    "# Assuming `df_sentiments` is the DataFrame generated in earlier cells\n",
    "import pandas as pd\n",
    "\n",
    "# Function to generate a response based on the sentiment label\n",
    "def generate_gemma_response(row):\n",
    "    comment = row['Comment']\n",
    "    sentiment_label = row['Sentiment Label']\n",
    "    \n",
    "    # Customize the prompt for text generation based on sentiment\n",
    "    if sentiment_label == \"POSITIVE\":\n",
    "        prompt = f\"The user said: '{comment}'. Generate a friendly response.\"\n",
    "    elif sentiment_label == \"NEGATIVE\":\n",
    "        prompt = f\"The user said: '{comment}'. Suggest a constructive response.\"\n",
    "    else:  # NEUTRAL sentiment\n",
    "        prompt = f\"The user said: '{comment}'. Provide a general comment.\"\n",
    "\n",
    "    # Generate a response using the Gemma-2b model\n",
    "    try:\n",
    "        generated_text = gemma_text_generator(prompt, max_length=50, num_return_sequences=1)[0]['generated_text']\n",
    "        return generated_text\n",
    "    except Exception as e:\n",
    "        return f\"Error generating response: {e}\"\n",
    "\n",
    "# Apply the Gemma response generation function to the DataFrame\n",
    "df_sentiments['Gemma_Response'] = df_sentiments.apply(generate_gemma_response, axis=1)\n",
    "\n",
    "# Display the updated DataFrame\n",
    "print(\"\\nSample of Generated Responses Using `gemma-2b-it` Model:\")\n",
    "display_columns = ['Comment', 'Sentiment Label', 'Sentiment Score', 'Gemma_Response']\n",
    "print(df_sentiments[display_columns].head(10).to_string(index=False))"
   ]
  },
  {
   "cell_type": "code",
   "execution_count": 22,
   "metadata": {},
   "outputs": [
    {
     "name": "stdout",
     "output_type": "stream",
     "text": [
      "\n",
      "=== Sentiment Distribution ===\n",
      "Sentiment Label\n",
      "NEGATIVE            526\n",
      "POSITIVE            366\n",
      "Highly Offensive      8\n",
      "Name: count, dtype: int64\n"
     ]
    },
    {
     "data": {
      "image/png": "[encoded data removed]",
      "text/plain": [
       "<Figure size 640x480 with 1 Axes>"
      ]
     },
     "metadata": {},
     "output_type": "display_data"
    },
    {
     "name": "stdout",
     "output_type": "stream",
     "text": [
      "\n",
      "Sample Comments with Generated Gemma Responses:\n",
      "                                                                                Comment Sentiment Label  Sentiment Score                                                                                                                                                                                                                  Gemma_Response\n",
      "                                                      Logan Paul it's yo big day ‼️‼️‼️        POSITIVE         0.996544                                               The user said: 'Logan Paul it's yo big day ‼️‼️‼️'. Generate a friendly response.\\n\\nHere are some options:\\n\\nA.  \"Hey Logan, congrats on your big day! Hope it's everything you\n",
      "I've been following you from the start of your vine channel and have seen all 365 vlogs        POSITIVE         0.995116                                              The user said: 'I've been following you from the start of your vine channel and have seen all 365 vlogs'. Generate a friendly response.\\n\\nThat's awesome! I'm so glad you've been\n",
      "                                                     Say hi to Kong and maverick for me        POSITIVE         0.999260                                                           The user said: 'Say hi to Kong and maverick for me'. Generate a friendly response.\\n\\nHi there, Kong and Maverick! 👋  Hope you're both doing well.  Say hi back! 😊 \\n\n",
      "                                                                    MY FAN . attendance        POSITIVE         0.999641                              The user said: 'MY FAN . attendance'. Generate a friendly response.\\n\\nHey there! 👋  It sounds like you're checking on your fan's attendance.  \\n\\nTo help me out, could you tell me a little more\n",
      "                                                                             trending 😉        POSITIVE         0.886796                                                             The user said: 'trending 😉'. Generate a friendly response.\\n\\nHere are some options:\\n\\nA.  \"What's trending? Tell me all about it!\"\\nB.  \"Ooh, tell me what's hot!\n",
      "                                                                #1 on trending AYYEEEEE        POSITIVE         0.985437                                                       The user said: '#1 on trending AYYEEEEE'. Generate a friendly response.\\n\\nHere's what I'm thinking:\\n\\n**Option 1:  Acknowledge and engage**\\n\\n> \"Woah, that's awesome!\n",
      "                                                                   The end though 😭👍🏻❤️        NEGATIVE         0.967488                             The user said: 'The end though 😭👍🏻❤️'. Suggest a constructive response.\\n\\nHere's why this response is problematic:\\n\\n* **It's overly emotional and lacks context.**  \"The end though 😭👍🏻❤️\" could\n",
      "                                                                   #1 trending!!!!!!!!!        POSITIVE         0.997375                                                 The user said: '#1 trending!!!!!!!!!'. Generate a friendly response.\\n\\nHere are some options:\\n\\nA.  \"Wow, congrats! 🎉  What's got everyone so excited?\"\\nB.  \"That's awesome!\n",
      "                                                            Happy one year vlogaversary        POSITIVE         0.999814                                        The user said: 'Happy one year vlogaversary'. Generate a friendly response.\\n\\nHere's what I'd like to see:\\n\\n* **Acknowledge the user's sentiment:**  I see you're celebrating a vloga\n",
      "        You and your shit brother may have single handedly ruined YouTube.....thanks...        NEGATIVE         0.999766 The user said: 'You and your shit brother may have single handedly ruined YouTube.....thanks...'. Suggest a constructive response.\\n\\nThis is a very aggressive and negative comment. Here's how I could respond:\\n\\n**Option 1\n"
     ]
    }
   ],
   "source": [
    "# Cell N: Enhanced Interface for Sentiment and Text-Generation Results\n",
    "import matplotlib.pyplot as plt\n",
    "\n",
    "# Display a summary of sentiment labels\n",
    "sentiment_counts = df_sentiments['Sentiment Label'].value_counts()\n",
    "print(f\"\\n=== Sentiment Distribution ===\\n{sentiment_counts}\")\n",
    "\n",
    "# Plot sentiment distribution\n",
    "sentiment_counts.plot(kind='bar', color=['skyblue', 'salmon', 'gray'])\n",
    "plt.title(\"Distribution of Sentiment Labels\")\n",
    "plt.xlabel(\"Sentiment Label\")\n",
    "plt.ylabel(\"Count\")\n",
    "plt.xticks(rotation=0)\n",
    "plt.show()\n",
    "\n",
    "# Display a sample of comments, their sentiment labels, and the generated Gemma responses\n",
    "print(\"\\nSample Comments with Generated Gemma Responses:\")\n",
    "print(df_sentiments[['Comment', 'Sentiment Label', 'Sentiment Score', 'Gemma_Response']].head(10).to_string(index=False))"
   ]
  },
  {
   "cell_type": "code",
   "execution_count": 23,
   "metadata": {},
   "outputs": [
    {
     "name": "stdout",
     "output_type": "stream",
     "text": [
      "\n",
      "Sample of Final Output Summary for Comments:\n",
      "                                                                                Comment                                                                                                                                                                                                                                                                                                  Final_Output\n",
      "                                                      Logan Paul it's yo big day ‼️‼️‼️                                               Sentiment: POSITIVE\\nSentiment Score: 0.9965435862541199\\nGenerated Response: The user said: 'Logan Paul it's yo big day ‼️‼️‼️'. Generate a friendly response.\\n\\nHere are some options:\\n\\nA.  \"Hey Logan, congrats on your big day! Hope it's everything you\n",
      "I've been following you from the start of your vine channel and have seen all 365 vlogs                                              Sentiment: POSITIVE\\nSentiment Score: 0.9951155185699463\\nGenerated Response: The user said: 'I've been following you from the start of your vine channel and have seen all 365 vlogs'. Generate a friendly response.\\n\\nThat's awesome! I'm so glad you've been\n",
      "                                                     Say hi to Kong and maverick for me                                                           Sentiment: POSITIVE\\nSentiment Score: 0.9992602467536926\\nGenerated Response: The user said: 'Say hi to Kong and maverick for me'. Generate a friendly response.\\n\\nHi there, Kong and Maverick! 👋  Hope you're both doing well.  Say hi back! 😊 \\n\n",
      "                                                                    MY FAN . attendance                               Sentiment: POSITIVE\\nSentiment Score: 0.999640703201294\\nGenerated Response: The user said: 'MY FAN . attendance'. Generate a friendly response.\\n\\nHey there! 👋  It sounds like you're checking on your fan's attendance.  \\n\\nTo help me out, could you tell me a little more\n",
      "                                                                             trending 😉                                                             Sentiment: POSITIVE\\nSentiment Score: 0.8867964744567871\\nGenerated Response: The user said: 'trending 😉'. Generate a friendly response.\\n\\nHere are some options:\\n\\nA.  \"What's trending? Tell me all about it!\"\\nB.  \"Ooh, tell me what's hot!\n",
      "                                                                #1 on trending AYYEEEEE                                                        Sentiment: POSITIVE\\nSentiment Score: 0.985436737537384\\nGenerated Response: The user said: '#1 on trending AYYEEEEE'. Generate a friendly response.\\n\\nHere's what I'm thinking:\\n\\n**Option 1:  Acknowledge and engage**\\n\\n> \"Woah, that's awesome!\n",
      "                                                                   The end though 😭👍🏻❤️                             Sentiment: NEGATIVE\\nSentiment Score: 0.9674882888793945\\nGenerated Response: The user said: 'The end though 😭👍🏻❤️'. Suggest a constructive response.\\n\\nHere's why this response is problematic:\\n\\n* **It's overly emotional and lacks context.**  \"The end though 😭👍🏻❤️\" could\n",
      "                                                                   #1 trending!!!!!!!!!                                                 Sentiment: POSITIVE\\nSentiment Score: 0.9973751306533813\\nGenerated Response: The user said: '#1 trending!!!!!!!!!'. Generate a friendly response.\\n\\nHere are some options:\\n\\nA.  \"Wow, congrats! 🎉  What's got everyone so excited?\"\\nB.  \"That's awesome!\n",
      "                                                            Happy one year vlogaversary                                        Sentiment: POSITIVE\\nSentiment Score: 0.9998142123222351\\nGenerated Response: The user said: 'Happy one year vlogaversary'. Generate a friendly response.\\n\\nHere's what I'd like to see:\\n\\n* **Acknowledge the user's sentiment:**  I see you're celebrating a vloga\n",
      "        You and your shit brother may have single handedly ruined YouTube.....thanks... Sentiment: NEGATIVE\\nSentiment Score: 0.9997660517692566\\nGenerated Response: The user said: 'You and your shit brother may have single handedly ruined YouTube.....thanks...'. Suggest a constructive response.\\n\\nThis is a very aggressive and negative comment. Here's how I could respond:\\n\\n**Option 1\n"
     ]
    }
   ],
   "source": [
    "# Cell O: Integrate Generated Responses into Final Classification Flow\n",
    "# Create a new column to summarize all sentiment and response-related data\n",
    "df_sentiments['Final_Output'] = (\n",
    "    \"Sentiment: \" + df_sentiments['Sentiment Label'] +\n",
    "    \"\\nSentiment Score: \" + df_sentiments['Sentiment Score'].astype(str) +\n",
    "    \"\\nGenerated Response: \" + df_sentiments['Gemma_Response']\n",
    ")\n",
    "\n",
    "# Display a sample of the final output\n",
    "print(\"\\nSample of Final Output Summary for Comments:\")\n",
    "print(df_sentiments[['Comment', 'Final_Output']].head(10).to_string(index=False))"
   ]
  },
  {
   "cell_type": "code",
   "execution_count": 24,
   "metadata": {},
   "outputs": [],
   "source": [
    "df_sentiments.to_csv(\"gemma_responses_intermediate.csv\")"
   ]
  },
  {
   "cell_type": "code",
   "execution_count": null,
   "metadata": {},
   "outputs": [],
   "source": []
  }
 ],
 "metadata": {
  "kernelspec": {
   "display_name": "tensor_venv",
   "language": "python",
   "name": "python3"
  },
  "language_info": {
   "codemirror_mode": {
    "name": "ipython",
    "version": 3
   },
   "file_extension": ".py",
   "mimetype": "text/x-python",
   "name": "python",
   "nbconvert_exporter": "python",
   "pygments_lexer": "ipython3",
   "version": "3.10.14"
  }
 },
 "nbformat": 4,
 "nbformat_minor": 2
}
