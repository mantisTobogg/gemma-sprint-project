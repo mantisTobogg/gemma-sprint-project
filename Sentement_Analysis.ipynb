{
 "cells": [
  {
   "cell_type": "markdown",
   "metadata": {},
   "source": [
    "### Step 0: Ensure All Files are in the Same Directory\n",
    "\n",
    "##### Place the following .py files:\n",
    "- config.py\n",
    "\n",
    "- main.py\n",
    "\n",
    "- batch_processing.py\n",
    "\n",
    "- run_pipeline.py"
   ]
  },
  {
   "cell_type": "markdown",
   "metadata": {},
   "source": [
    "#### Step 1: Import Python Files into Your Notebook"
   ]
  },
  {
   "cell_type": "code",
   "execution_count": null,
   "metadata": {},
   "outputs": [],
   "source": [
    "# Enable autoreloading to automatically load any code changes\n",
    "%load_ext autoreload\n",
    "%autoreload 2\n",
    "\n",
    "# Import functions and modules from your Python files\n",
    "from src.config import CONFIG\n",
    "from src.main import (\n",
    "    analyze_sentiment, detect_sarcasm, \n",
    "    contains_offensive_language, generate_responses\n",
    ")\n",
    "from src.batch_processing import batch_process\n",
    "import src.run_pipeline as pipeline"
   ]
  },
  {
   "cell_type": "markdown",
   "metadata": {},
   "source": [
    "#### Step 2: Run Functions from the Modules in the Notebook\n",
    "\n",
    "1.\tRun the full pipeline:\n",
    "2. \tTest individual components:\n",
    "3.  Modify Code Directly in the Notebook if Needed\n",
    "\n",
    "    a.\tModify the .py file.\n",
    "\n",
    "\tb.\tUse %autoreload to ensure your notebook reflects the latest changes.\n"
   ]
  },
  {
   "cell_type": "code",
   "execution_count": null,
   "metadata": {},
   "outputs": [],
   "source": [
    "# Execute the main pipeline logic from run_pipeline.py\n",
    "run_pipeline"
   ]
  },
  {
   "cell_type": "markdown",
   "metadata": {},
   "source": [
    "#### Step 3: Test Individual Comments to check whether or not the model works as intended."
   ]
  },
  {
   "cell_type": "code",
   "execution_count": null,
   "metadata": {},
   "outputs": [],
   "source": [
    "# Example: Test sentiment analysis with sample comments\n",
    "sample_comments = [\"I love this!\", \"This is terrible.\", \"Is this a joke?\"]\n",
    "sentiments = analyze_sentiment(sample_comments)\n",
    "print(sentiments)\n",
    "\n",
    "# Example: Test sarcasm detection\n",
    "sarcasm_labels = detect_sarcasm(sample_comments)\n",
    "print(sarcasm_labels)\n",
    "\n",
    "# Example: Test offensive language detection\n",
    "offensive_flags = [contains_offensive_language(comment) for comment in sample_comments]\n",
    "print(offensive_flags)\n",
    "\n",
    "# Example: Generate responses for non-neutral comments\n",
    "responses = generate_responses(sentiments, sample_comments)\n",
    "print(responses)"
   ]
  },
  {
   "cell_type": "markdown",
   "metadata": {},
   "source": [
    "#### Step 4: Use %run to Execute Full .py Files"
   ]
  },
  {
   "cell_type": "code",
   "execution_count": null,
   "metadata": {},
   "outputs": [],
   "source": [
    "# Run the complete pipeline from run_pipeline.py\n",
    "%run run_pipeline.py"
   ]
  }
 ],
 "metadata": {
  "kernelspec": {
   "display_name": "Python 3",
   "language": "python",
   "name": "python3"
  },
  "language_info": {
   "name": "python",
   "version": "3.10.14"
  }
 },
 "nbformat": 4,
 "nbformat_minor": 2
}
