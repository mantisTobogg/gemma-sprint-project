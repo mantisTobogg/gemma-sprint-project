{
 "cells": [
  {
   "cell_type": "markdown",
   "metadata": {},
   "source": [
    "### Pre-Requisites\n",
    "\n",
    "##### Place the following .py files:\n",
    "- config.py\n",
    "- main.py\n",
    "- batch_processing.py\n",
    "- run_pipeline.py"
   ]
  },
  {
   "cell_type": "code",
   "execution_count": 1,
   "metadata": {},
   "outputs": [],
   "source": [
    "# import sys\n",
    "# print(sys.executable)"
   ]
  },
  {
   "cell_type": "code",
   "execution_count": 2,
   "metadata": {
    "ExecuteTime": {
     "end_time": "2024-10-20T14:31:04.565103Z",
     "start_time": "2024-10-20T14:31:04.554830Z"
    }
   },
   "outputs": [],
   "source": [
    "%load_ext autoreload\n",
    "%autoreload 2"
   ]
  },
  {
   "cell_type": "markdown",
   "metadata": {},
   "source": [
    "#### Step 0: Imports"
   ]
  },
  {
   "cell_type": "code",
   "execution_count": 3,
   "metadata": {
    "ExecuteTime": {
     "end_time": "2024-10-20T14:31:10.223346Z",
     "start_time": "2024-10-20T14:31:04.567701Z"
    }
   },
   "outputs": [
    {
     "name": "stderr",
     "output_type": "stream",
     "text": [
      "2024-10-21 21:26:18,563 - INFO - Loading models...\n"
     ]
    },
    {
     "ename": "NameError",
     "evalue": "name 'load_model' is not defined",
     "output_type": "error",
     "traceback": [
      "\u001b[0;31m---------------------------------------------------------------------------\u001b[0m",
      "\u001b[0;31mNameError\u001b[0m                                 Traceback (most recent call last)",
      "Cell \u001b[0;32mIn[3], line 13\u001b[0m\n\u001b[1;32m     10\u001b[0m \u001b[38;5;28;01mfrom\u001b[39;00m \u001b[38;5;21;01mconfig\u001b[39;00m \u001b[38;5;28;01mimport\u001b[39;00m CONFIG\n\u001b[1;32m     12\u001b[0m \u001b[38;5;66;03m# Step B (continued): Import core functions from main.py\u001b[39;00m\n\u001b[0;32m---> 13\u001b[0m \u001b[38;5;28;01mfrom\u001b[39;00m \u001b[38;5;21;01mmain\u001b[39;00m \u001b[38;5;28;01mimport\u001b[39;00m analyze_sentiment, detect_sarcasm, generate_gemma_response\n",
      "File \u001b[0;32m~/Documents/gemma_NON-GIT files/gemma-sprint-project/src/main.py:25\u001b[0m\n\u001b[1;32m     22\u001b[0m \u001b[38;5;66;03m# Global Model Loading (Load Once at the Start)\u001b[39;00m\n\u001b[1;32m     23\u001b[0m logging\u001b[38;5;241m.\u001b[39minfo(\u001b[38;5;124m\"\u001b[39m\u001b[38;5;124mLoading models...\u001b[39m\u001b[38;5;124m\"\u001b[39m)\n\u001b[0;32m---> 25\u001b[0m sarcasm_tokenizer, sarcasm_model \u001b[38;5;241m=\u001b[39m \u001b[43mload_model\u001b[49m(\u001b[38;5;124m\"\u001b[39m\u001b[38;5;124msarcasm\u001b[39m\u001b[38;5;124m\"\u001b[39m, \u001b[38;5;124m\"\u001b[39m\u001b[38;5;124msarcasm\u001b[39m\u001b[38;5;124m\"\u001b[39m)\n\u001b[1;32m     26\u001b[0m sentiment_tokenizer, sentiment_model \u001b[38;5;241m=\u001b[39m load_model(\u001b[38;5;124m\"\u001b[39m\u001b[38;5;124msentiment\u001b[39m\u001b[38;5;124m\"\u001b[39m, \u001b[38;5;124m\"\u001b[39m\u001b[38;5;124msentiment\u001b[39m\u001b[38;5;124m\"\u001b[39m)\n\u001b[1;32m     27\u001b[0m generator \u001b[38;5;241m=\u001b[39m load_model(model_name\u001b[38;5;241m=\u001b[39m\u001b[38;5;124m\"\u001b[39m\u001b[38;5;124mtext_generation\u001b[39m\u001b[38;5;124m\"\u001b[39m, task\u001b[38;5;241m=\u001b[39m\u001b[38;5;124m\"\u001b[39m\u001b[38;5;124mtext-generation\u001b[39m\u001b[38;5;124m\"\u001b[39m)\n",
      "\u001b[0;31mNameError\u001b[0m: name 'load_model' is not defined"
     ]
    }
   ],
   "source": [
    "# Step A: Import core Python libraries\n",
    "import sys\n",
    "import os\n",
    "import pandas as pd\n",
    "import logging\n",
    "from tqdm.notebook import tqdm  # Import tqdm for progress bar in Jupyter Notebook\n",
    "\n",
    "# Step B: Add the 'src' directory to the Python path\n",
    "sys.path.append(os.path.join(os.getcwd(), 'src'))\n",
    "from config import CONFIG\n",
    "\n",
    "# Step B (continued): Import core functions from main.py\n",
    "from main import analyze_sentiment, detect_sarcasm, generate_gemma_response"
   ]
  },
  {
   "cell_type": "code",
   "execution_count": null,
   "metadata": {
    "ExecuteTime": {
     "end_time": "2024-10-20T14:31:11.620066Z",
     "start_time": "2024-10-20T14:31:10.294761Z"
    }
   },
   "outputs": [],
   "source": [
    "# Step C: Load Sarcasm Detection Model\n",
    "import torch\n",
    "from transformers import AutoTokenizer, AutoModelForSequenceClassification\n",
    "\n",
    "logging.info(\"Loading sarcasm detection model and tokenizer...\")\n",
    "sarcasm_tokenizer = AutoTokenizer.from_pretrained(CONFIG[\"models\"][\"sarcasm\"])\n",
    "sarcasm_model = AutoModelForSequenceClassification.from_pretrained(CONFIG[\"models\"][\"sarcasm\"]).to(torch.device(CONFIG[\"device\"]))\n",
    "logging.info(\"Sarcasm detection model and tokenizer loaded successfully.\")"
   ]
  },
  {
   "cell_type": "code",
   "execution_count": null,
   "metadata": {
    "ExecuteTime": {
     "end_time": "2024-10-20T14:31:12.402169Z",
     "start_time": "2024-10-20T14:31:11.627239Z"
    }
   },
   "outputs": [],
   "source": [
    "# Step D: Load Sentiment Analysis Model\n",
    "logging.info(\"Loading sentiment analysis model and tokenizer...\")\n",
    "sentiment_tokenizer = AutoTokenizer.from_pretrained(CONFIG[\"models\"][\"sentiment\"])\n",
    "sentiment_model = AutoModelForSequenceClassification.from_pretrained(CONFIG[\"models\"][\"sentiment\"]).to(torch.device(CONFIG[\"device\"]))\n",
    "logging.info(\"Sentiment analysis model and tokenizer loaded successfully.\")"
   ]
  },
  {
   "cell_type": "code",
   "execution_count": null,
   "metadata": {
    "ExecuteTime": {
     "end_time": "2024-10-20T14:31:22.458574Z",
     "start_time": "2024-10-20T14:31:12.410506Z"
    }
   },
   "outputs": [],
   "source": [
    "# Step E: Load GEMMA Text Generation Model\n",
    "from transformers import pipeline\n",
    "\n",
    "logging.info(\"Loading GEMMA text generation model...\")\n",
    "generator = pipeline(\n",
    "    \"text-generation\",\n",
    "    model=CONFIG[\"models\"][\"text_generation\"],\n",
    "    device=torch.device(CONFIG[\"device\"])\n",
    ")\n",
    "logging.info(\"GEMMA text generation model loaded successfully.\")"
   ]
  },
  {
   "cell_type": "markdown",
   "metadata": {},
   "source": [
    "#### Step 1: Define Dataset PATH "
   ]
  },
  {
   "cell_type": "code",
   "execution_count": null,
   "metadata": {
    "ExecuteTime": {
     "end_time": "2024-10-20T14:31:22.504086Z",
     "start_time": "2024-10-20T14:31:22.468478Z"
    }
   },
   "outputs": [],
   "source": [
    "# Step 1: Define the path to the cleaned dataset\n",
    "DATASET_PATH = os.path.join(os.getcwd(), \"datasets\", \"UScomments_final_cleaned.csv\")"
   ]
  },
  {
   "cell_type": "markdown",
   "metadata": {},
   "source": [
    "#### Step 2: Load the \"better\" dataset (UScomments_final_cleaned.csv) "
   ]
  },
  {
   "cell_type": "code",
   "execution_count": null,
   "metadata": {
    "ExecuteTime": {
     "end_time": "2024-10-20T14:31:23.009284Z",
     "start_time": "2024-10-20T14:31:22.512434Z"
    }
   },
   "outputs": [],
   "source": [
    "# Step 2: Load the cleaned dataset\n",
    "data = pd.read_csv(DATASET_PATH, low_memory=False)\n",
    "logging.info(f\"Loaded dataset from {DATASET_PATH}\")"
   ]
  },
  {
   "cell_type": "markdown",
   "metadata": {},
   "source": [
    "#### Step 3: Extract comments and pre-labeled sentiment from the dataset\n",
    "#### Step 4: Init a List to store sarcasm detection results\n"
   ]
  },
  {
   "cell_type": "code",
   "execution_count": null,
   "metadata": {
    "ExecuteTime": {
     "end_time": "2024-10-20T14:31:23.079524Z",
     "start_time": "2024-10-20T14:31:23.030820Z"
    }
   },
   "outputs": [],
   "source": [
    "# Step 3: Extract comments and pre-labeled sentiment from the dataset\n",
    "comments = data[\"cleaned_comment\"].astype(str).tolist()\n",
    "pre_labeled_sentiments = data[\"sentiment\"].tolist()\n",
    "\n",
    "# Step 4: Initialize a list to store sarcasm detection results\n",
    "sarcasm_labels = []\n",
    "\n",
    "# Pre Step 5: \n",
    "from batch_processing import batch_process"
   ]
  },
  {
   "cell_type": "markdown",
   "metadata": {},
   "source": [
    "#### Step 5: re computation :( "
   ]
  },
  {
   "cell_type": "code",
   "execution_count": null,
   "metadata": {
    "ExecuteTime": {
     "end_time": "2024-10-20T14:31:23.116949Z",
     "start_time": "2024-10-20T14:31:23.082440Z"
    }
   },
   "outputs": [],
   "source": [
    "import shutil\n",
    "\n",
    "# Restore the backup if needed\n",
    "original_path = \"/Users/kihun/Documents/gemma_NON-GIT files/gemma-sprint-project/checkpoints/sarcasm_labels.pkl\"\n",
    "backup_path = \"/Users/kihun/Documents/gemma_NON-GIT files/gemma-sprint-project/checkpoints/sarcasm_labels_backup.pkl\"\n",
    "shutil.copy2(backup_path, original_path)\n",
    "print(f\"Restored checkpoint from backup: {backup_path} to {original_path}\")"
   ]
  },
  {
   "cell_type": "code",
   "execution_count": null,
   "metadata": {
    "ExecuteTime": {
     "start_time": "2024-10-20T14:31:23.193023Z"
    },
    "jupyter": {
     "is_executing": true
    }
   },
   "outputs": [],
   "source": [
    "# Step 5: Perform sarcasm detection in batches with a progress bar\n",
    "import pickle  # Import pickle for checkpointing\n",
    "from tqdm.notebook import tqdm  # Import tqdm for progress bar in Jupyter Notebook\n",
    "from main import detect_sarcasm  # Import the sarcasm detection function\n",
    "\n",
    "# Define checkpoint directory\n",
    "checkpoint_dir = os.path.join(os.getcwd(), \"checkpoints\")\n",
    "if not os.path.exists(checkpoint_dir):\n",
    "    os.makedirs(checkpoint_dir)\n",
    "\n",
    "# Ensure write permission to the checkpoint directory\n",
    "if os.access(checkpoint_dir, os.W_OK):\n",
    "    print(f\"Write permission confirmed for checkpoint directory: {checkpoint_dir}\")\n",
    "else:\n",
    "    print(f\"Warning: No write permission for checkpoint directory: {checkpoint_dir}\")\n",
    "\n",
    "# Start sarcasm detection\n",
    "sarcasm_labels = []  # List to store sarcasm labels\n",
    "total_batches = len(comments) // CONFIG[\"batch_size\"] + (1 if len(comments) % CONFIG[\"batch_size\"] != 0 else 0)\n",
    "\n",
    "# Iterate over each batch and generate sarcasm labels\n",
    "for idx, sarcasm_batch in enumerate(tqdm(batch_process(comments, CONFIG[\"batch_size\"], detect_sarcasm), total=total_batches, desc=\"Performing Sarcasm Detection\")):\n",
    "    # Remove .tolist() since sarcasm_batch is already a list\n",
    "    sarcasm_labels.extend(sarcasm_batch)\n",
    "    logging.info(f\"Processed batch {idx + 1}/{total_batches} in sarcasm detection.\")\n",
    "\n",
    "    # Save checkpoint after each batch to avoid data loss\n",
    "    with open(os.path.join(checkpoint_dir, 'sarcasm_labels.pkl'), 'wb') as f:\n",
    "        pickle.dump(sarcasm_labels, f)\n",
    "\n",
    "logging.info(\"Step 5: Sarcasm detection completed and checkpoint saved.\")"
   ]
  },
  {
   "cell_type": "code",
   "execution_count": null,
   "metadata": {},
   "outputs": [],
   "source": [
    "# import shutil\n",
    "# import os\n",
    "# \n",
    "# # Define paths for the original and backup\n",
    "# original_path = os.path.join(os.getcwd(), \"checkpoints\", \"sarcasm_labels.pkl\")\n",
    "# backup_path = os.path.join(os.getcwd(), \"checkpoints\", \"sarcasm_labels_backup.pkl\")\n",
    "# \n",
    "# # Create a backup\n",
    "# try:\n",
    "#     shutil.copy2(original_path, backup_path)\n",
    "#     print(f\"Backup created at: {backup_path}\")\n",
    "# except FileNotFoundError:\n",
    "#     print(\"Checkpoint file not found. Make sure Step 5 has generated a checkpoint before backing up.\")"
   ]
  },
  {
   "cell_type": "markdown",
   "metadata": {},
   "source": [
    "#### Step 6: Generate responses using the Gemma-2b-it model with parallel processing and progress bar\n"
   ]
  },
  {
   "cell_type": "code",
   "execution_count": null,
   "metadata": {},
   "outputs": [],
   "source": [
    "# Step 6: Generate responses using the Gemma-2b-it model (parallelized)\n",
    "from concurrent.futures import ProcessPoolExecutor, as_completed\n",
    "from tqdm.notebook import tqdm  # Progress bar for Jupyter Notebook\n",
    "\n",
    "# Set the number of workers for parallel processing\n",
    "max_workers = 4  # Increased from 2 to 4 for better utilization\n",
    "\n",
    "responses = []  # List to hold the generated responses\n",
    "\n",
    "# Start parallel processing using ProcessPoolExecutor\n",
    "with ProcessPoolExecutor(max_workers=max_workers) as executor:\n",
    "    # Submit tasks to the executor for processing\n",
    "    future_to_comment = {executor.submit(generate_gemma_response, comment): comment for comment in comments}\n",
    "    \n",
    "    # Use tqdm to track progress of tasks being completed\n",
    "    for future in tqdm(as_completed(future_to_comment), total=len(comments), desc=\"Generating GEMMA Responses\"):\n",
    "        try:\n",
    "            # Retrieve the result of each completed task\n",
    "            response = future.result()\n",
    "            responses.append(response)\n",
    "        except Exception as e:\n",
    "            # Log any errors during the process\n",
    "            logging.error(f\"Error generating GEMMA response in parallel: {e}\")\n",
    "            responses.append(\"\")  # Append an empty response if there's an error\n",
    "\n",
    "# Log that step 6 is completed\n",
    "logging.info(\"Step 6: GEMMA response generation completed.\")\n",
    "\n",
    "# Save the results after Step 6 to track progress\n",
    "df_results = pd.DataFrame({\n",
    "    \"Comment\": comments,\n",
    "    \"Sentiment\": pre_labeled_sentiments,\n",
    "    \"Sarcasm\": sarcasm_labels,\n",
    "    \"Response\": responses\n",
    "})\n",
    "\n",
    "# Save the DataFrame to CSV after Step 6\n",
    "df_results.to_csv(\"results_after_step_6.csv\", index=False)\n",
    "print(\"Results after Step 6 have been saved to 'results_after_step_6.csv'.\")"
   ]
  },
  {
   "cell_type": "markdown",
   "metadata": {},
   "source": [
    "#### Step 7: Combine the results into a DataFrame\n",
    "#### Step 8: Save the results to a CSV file "
   ]
  },
  {
   "cell_type": "code",
   "execution_count": null,
   "metadata": {},
   "outputs": [],
   "source": [
    "# Step 7: Combine all results into a DataFrame\n",
    "assert len(comments) == len(pre_labeled_sentiments) == len(sarcasm_labels) == len(responses), \"List lengths do not match. Check the previous steps for errors.\"\n",
    "\n",
    "df_results = pd.DataFrame({\n",
    "    \"Comment\": comments,\n",
    "    \"Sentiment\": pre_labeled_sentiments,  # Using the pre-labeled sentiment\n",
    "    \"Sarcasm\": sarcasm_labels,\n",
    "    \"Response\": responses\n",
    "})\n",
    "logging.info(f\"Step 7: Combined results into DataFrame with shape {df_results.shape}.\")\n",
    "\n",
    "# Step 8: Save the results to a CSV file\n",
    "OUTPUT_PATH = os.path.join(os.getcwd(), \"outputs\", \"Processed_Comments.csv\")\n",
    "df_results.to_csv(OUTPUT_PATH, index=False)\n",
    "print(f\"Processing complete. Results saved to '{OUTPUT_PATH}'.\")\n",
    "logging.info(f\"Step 8: Results saved to '{OUTPUT_PATH}'.\")"
   ]
  },
  {
   "cell_type": "markdown",
   "metadata": {},
   "source": [
    "#### Step 9: Display a sample of the final results"
   ]
  },
  {
   "cell_type": "code",
   "execution_count": null,
   "metadata": {},
   "outputs": [],
   "source": [
    "# Step 9: Display a sample of the final results\n",
    "df_results.head()"
   ]
  },
  {
   "cell_type": "code",
   "execution_count": null,
   "metadata": {},
   "outputs": [],
   "source": [
    "# Monitor logs in real-time (separate cell)\n",
    "import os\n",
    "import glob\n",
    "\n",
    "# Define the path to the logs directory\n",
    "logs_directory = os.path.join(os.getcwd(), \"logs\")\n",
    "\n",
    "# Get the most recently created log file in the logs directory\n",
    "log_files = glob.glob(os.path.join(logs_directory, \"*.log\"))\n",
    "if log_files:\n",
    "    latest_log_file = max(log_files, key=os.path.getctime)\n",
    "    print(f\"Monitoring latest log file: {latest_log_file}\")\n",
    "\n",
    "    # Properly handle spaces in the path by quoting it\n",
    "    safe_log_file_path = f'\"{latest_log_file}\"'\n",
    "    \n",
    "    # Monitor the selected log file in real-time\n",
    "    os.system(f'tail -f {safe_log_file_path}')\n",
    "else:\n",
    "    print(\"No log files found in the logs directory.\")"
   ]
  }
 ],
 "metadata": {
  "kernelspec": {
   "display_name": "Python 3 (ipykernel)",
   "language": "python",
   "name": "python3"
  },
  "language_info": {
   "codemirror_mode": {
    "name": "ipython",
    "version": 3
   },
   "file_extension": ".py",
   "mimetype": "text/x-python",
   "name": "python",
   "nbconvert_exporter": "python",
   "pygments_lexer": "ipython3",
   "version": "3.10.14"
  }
 },
 "nbformat": 4,
 "nbformat_minor": 4
}
