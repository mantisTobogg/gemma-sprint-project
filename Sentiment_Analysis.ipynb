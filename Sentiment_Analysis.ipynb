{
 "cells": [
  {
   "metadata": {},
   "cell_type": "markdown",
   "source": [
    "### Step 0: Ensure All Files are in the Same Directory\n",
    "\n",
    "##### Place the following .py files:\n",
    "- config.py\n",
    "\n",
    "- main.py\n",
    "\n",
    "- batch_processing.py\n",
    "\n",
    "- run_pipeline.py"
   ]
  },
  {
   "metadata": {
    "ExecuteTime": {
     "end_time": "2024-10-19T09:19:47.761006Z",
     "start_time": "2024-10-19T09:19:44.948730Z"
    }
   },
   "cell_type": "code",
   "source": [
    "# Sentiment_Analysis.ipynb - Notebook to run the full pipeline\n",
    "\n",
    "# Import necessary libraries and modules\n",
    "import sys\n",
    "import os\n",
    "import pandas as pd\n",
    "\n",
    "# Add the src directory to Python's path\n",
    "sys.path.append(os.path.join(os.getcwd(), 'src'))\n",
    "\n",
    "# Import core functions from the main module\n",
    "from main import analyze_sentiment, detect_sarcasm, generate_gemma_response\n",
    "from batch_processing import batch_process\n",
    "from config import CONFIG"
   ],
   "outputs": [],
   "execution_count": 1
  },
  {
   "metadata": {
    "ExecuteTime": {
     "end_time": "2024-10-19T09:19:47.766183Z",
     "start_time": "2024-10-19T09:19:47.764248Z"
    }
   },
   "cell_type": "code",
   "source": [
    "# Step 1: Define the path to the cleaned dataset\n",
    "DATASET_PATH = os.path.join(os.getcwd(), \"datasets\", \"UScomments_final_cleaned.csv\")"
   ],
   "outputs": [],
   "execution_count": 2
  },
  {
   "metadata": {
    "ExecuteTime": {
     "end_time": "2024-10-19T09:19:48.283048Z",
     "start_time": "2024-10-19T09:19:47.847659Z"
    }
   },
   "cell_type": "code",
   "source": [
    "# Step 2: Load the cleaned dataset\n",
    "data = pd.read_csv(DATASET_PATH, low_memory=False)"
   ],
   "outputs": [],
   "execution_count": 3
  },
  {
   "metadata": {
    "ExecuteTime": {
     "end_time": "2024-10-19T09:19:48.306559Z",
     "start_time": "2024-10-19T09:19:48.289473Z"
    }
   },
   "cell_type": "code",
   "source": [
    "# Step 3: Extract comments and pre-labeled sentiment from the dataset\n",
    "comments = data[\"cleaned_comment\"].astype(str).tolist()\n",
    "pre_labeled_sentiments = data[\"sentiment\"].tolist()"
   ],
   "outputs": [],
   "execution_count": 4
  },
  {
   "metadata": {
    "ExecuteTime": {
     "end_time": "2024-10-19T09:19:48.314207Z",
     "start_time": "2024-10-19T09:19:48.312622Z"
    }
   },
   "cell_type": "code",
   "source": [
    "# Step 4: Initialize a list to store sarcasm detection results\n",
    "sarcasm_labels = []"
   ],
   "outputs": [],
   "execution_count": 5
  },
  {
   "cell_type": "code",
   "metadata": {
    "jupyter": {
     "is_executing": true
    },
    "ExecuteTime": {
     "start_time": "2024-10-19T09:19:48.319518Z"
    }
   },
   "source": [
    "# Step 5: Perform sarcasm detection in batches\n",
    "for sarcasm_batch in batch_process(comments, CONFIG[\"batch_size\"], detect_sarcasm):\n",
    "    sarcasm_labels.extend(sarcasm_batch.to(CONFIG[\"device\"]))"
   ],
   "outputs": [],
   "execution_count": null
  },
  {
   "metadata": {},
   "cell_type": "code",
   "source": [
    "# Step 6: Generate responses using the Gemma-2b-it model\n",
    "responses = [generate_gemma_response(comment) for comment in comments]"
   ],
   "outputs": [],
   "execution_count": null
  },
  {
   "metadata": {},
   "cell_type": "code",
   "source": [
    "# Step 7: Combine all results into a DataFrame\n",
    "df_results = pd.DataFrame({\n",
    "    \"Comment\": comments,\n",
    "    \"Sentiment\": pre_labeled_sentiments,  # Using the pre-labeled sentiment\n",
    "    \"Sarcasm\": sarcasm_labels,\n",
    "    \"Response\": responses\n",
    "})"
   ],
   "outputs": [],
   "execution_count": null
  },
  {
   "metadata": {},
   "cell_type": "code",
   "source": [
    "# Step 8: Save the results to a CSV file\n",
    "OUTPUT_PATH = os.path.join(os.getcwd(), \"outputs\", \"Processed_Comments.csv\")\n",
    "df_results.to_csv(OUTPUT_PATH, index=False)\n",
    "print(f\"Processing complete. Results saved to '{OUTPUT_PATH}'.\")"
   ],
   "outputs": [],
   "execution_count": null
  },
  {
   "cell_type": "code",
   "metadata": {},
   "source": [
    "# Step 9: Display a sample of the final results\n",
    "df_results.head()"
   ],
   "outputs": [],
   "execution_count": null
  }
 ],
 "metadata": {
  "kernelspec": {
   "display_name": "Python 3",
   "language": "python",
   "name": "python3"
  },
  "language_info": {
   "codemirror_mode": {
    "name": "ipython",
    "version": 3
   },
   "file_extension": ".py",
   "mimetype": "text/x-python",
   "name": "python",
   "nbconvert_exporter": "python",
   "pygments_lexer": "ipython3",
   "version": "3.10.14"
  }
 },
 "nbformat": 4,
 "nbformat_minor": 2
}
